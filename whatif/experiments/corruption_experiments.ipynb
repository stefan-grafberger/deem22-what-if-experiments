{
 "cells": [
  {
   "cell_type": "code",
   "execution_count": 1,
   "metadata": {},
   "outputs": [],
   "source": [
    "from whatif.experiments.credit_data_corruptions_naive import do_credit_corruption_naive, \\\n",
    "    measure_credit_corruption_naive_exec_time\n",
    "from whatif.experiments.credit_data_corruptions_opt import do_credit_corruption_opt, \\\n",
    "    measure_credit_corruption_opt_exec_time\n",
    "from whatif.experiments.helpful_reviews_data_corruptions_naive import do_review_corruption_naive, \\\n",
    "    measure_review_corruption_naive_exec_time\n",
    "from whatif.experiments.helpful_reviews_data_corruptions_opt import do_review_corruption_opt, \\\n",
    "    measure_review_corruption_opt_exec_time\n",
    "from whatif.utils.utils import get_project_root\n",
    "\n",
    "def save_to_csv(df, filename):\n",
    "    df.to_csv(f'{str(get_project_root())}/whatif/experiments/datasets/sneakers/{filename}.csv',\n",
    "              index=False)"
   ]
  },
  {
   "cell_type": "code",
   "execution_count": 2,
   "outputs": [
    {
     "data": {
      "text/plain": "    test_corruption  train_corruption  corruption_fraction            feature  \\\n0             False             False                  NaN               None   \n1             False              True                  0.2        star_rating   \n2              True              True                  0.2        star_rating   \n3             False              True                  0.5        star_rating   \n4              True              True                  0.5        star_rating   \n5             False              True                  0.9        star_rating   \n6              True              True                  0.9        star_rating   \n7             False              True                  0.2  verified_purchase   \n8              True              True                  0.2  verified_purchase   \n9             False              True                  0.5  verified_purchase   \n10             True              True                  0.5  verified_purchase   \n11            False              True                  0.9  verified_purchase   \n12             True              True                  0.9  verified_purchase   \n13            False              True                  0.2    review_headline   \n14             True              True                  0.2    review_headline   \n15            False              True                  0.5    review_headline   \n16             True              True                  0.5    review_headline   \n17            False              True                  0.9    review_headline   \n18             True              True                  0.9    review_headline   \n\n     roc_auc        f1  \n0   0.603172  0.596336  \n1   0.598404  0.602601  \n2   0.597641  0.592538  \n3   0.604744  0.608780  \n4   0.590089  0.493109  \n5   0.609148  0.525275  \n6   0.604851  0.602002  \n7   0.604326  0.585557  \n8   0.600842  0.593896  \n9   0.600141  0.573184  \n10  0.605910  0.607244  \n11  0.607992  0.613172  \n12  0.605735  0.605125  \n13  0.605207  0.593169  \n14  0.605933  0.602672  \n15  0.602206  0.589454  \n16  0.603781  0.601740  \n17  0.600272  0.574190  \n18  0.598754  0.593239  ",
      "text/html": "<div>\n<style scoped>\n    .dataframe tbody tr th:only-of-type {\n        vertical-align: middle;\n    }\n\n    .dataframe tbody tr th {\n        vertical-align: top;\n    }\n\n    .dataframe thead th {\n        text-align: right;\n    }\n</style>\n<table border=\"1\" class=\"dataframe\">\n  <thead>\n    <tr style=\"text-align: right;\">\n      <th></th>\n      <th>test_corruption</th>\n      <th>train_corruption</th>\n      <th>corruption_fraction</th>\n      <th>feature</th>\n      <th>roc_auc</th>\n      <th>f1</th>\n    </tr>\n  </thead>\n  <tbody>\n    <tr>\n      <th>0</th>\n      <td>False</td>\n      <td>False</td>\n      <td>NaN</td>\n      <td>None</td>\n      <td>0.603172</td>\n      <td>0.596336</td>\n    </tr>\n    <tr>\n      <th>1</th>\n      <td>False</td>\n      <td>True</td>\n      <td>0.2</td>\n      <td>star_rating</td>\n      <td>0.598404</td>\n      <td>0.602601</td>\n    </tr>\n    <tr>\n      <th>2</th>\n      <td>True</td>\n      <td>True</td>\n      <td>0.2</td>\n      <td>star_rating</td>\n      <td>0.597641</td>\n      <td>0.592538</td>\n    </tr>\n    <tr>\n      <th>3</th>\n      <td>False</td>\n      <td>True</td>\n      <td>0.5</td>\n      <td>star_rating</td>\n      <td>0.604744</td>\n      <td>0.608780</td>\n    </tr>\n    <tr>\n      <th>4</th>\n      <td>True</td>\n      <td>True</td>\n      <td>0.5</td>\n      <td>star_rating</td>\n      <td>0.590089</td>\n      <td>0.493109</td>\n    </tr>\n    <tr>\n      <th>5</th>\n      <td>False</td>\n      <td>True</td>\n      <td>0.9</td>\n      <td>star_rating</td>\n      <td>0.609148</td>\n      <td>0.525275</td>\n    </tr>\n    <tr>\n      <th>6</th>\n      <td>True</td>\n      <td>True</td>\n      <td>0.9</td>\n      <td>star_rating</td>\n      <td>0.604851</td>\n      <td>0.602002</td>\n    </tr>\n    <tr>\n      <th>7</th>\n      <td>False</td>\n      <td>True</td>\n      <td>0.2</td>\n      <td>verified_purchase</td>\n      <td>0.604326</td>\n      <td>0.585557</td>\n    </tr>\n    <tr>\n      <th>8</th>\n      <td>True</td>\n      <td>True</td>\n      <td>0.2</td>\n      <td>verified_purchase</td>\n      <td>0.600842</td>\n      <td>0.593896</td>\n    </tr>\n    <tr>\n      <th>9</th>\n      <td>False</td>\n      <td>True</td>\n      <td>0.5</td>\n      <td>verified_purchase</td>\n      <td>0.600141</td>\n      <td>0.573184</td>\n    </tr>\n    <tr>\n      <th>10</th>\n      <td>True</td>\n      <td>True</td>\n      <td>0.5</td>\n      <td>verified_purchase</td>\n      <td>0.605910</td>\n      <td>0.607244</td>\n    </tr>\n    <tr>\n      <th>11</th>\n      <td>False</td>\n      <td>True</td>\n      <td>0.9</td>\n      <td>verified_purchase</td>\n      <td>0.607992</td>\n      <td>0.613172</td>\n    </tr>\n    <tr>\n      <th>12</th>\n      <td>True</td>\n      <td>True</td>\n      <td>0.9</td>\n      <td>verified_purchase</td>\n      <td>0.605735</td>\n      <td>0.605125</td>\n    </tr>\n    <tr>\n      <th>13</th>\n      <td>False</td>\n      <td>True</td>\n      <td>0.2</td>\n      <td>review_headline</td>\n      <td>0.605207</td>\n      <td>0.593169</td>\n    </tr>\n    <tr>\n      <th>14</th>\n      <td>True</td>\n      <td>True</td>\n      <td>0.2</td>\n      <td>review_headline</td>\n      <td>0.605933</td>\n      <td>0.602672</td>\n    </tr>\n    <tr>\n      <th>15</th>\n      <td>False</td>\n      <td>True</td>\n      <td>0.5</td>\n      <td>review_headline</td>\n      <td>0.602206</td>\n      <td>0.589454</td>\n    </tr>\n    <tr>\n      <th>16</th>\n      <td>True</td>\n      <td>True</td>\n      <td>0.5</td>\n      <td>review_headline</td>\n      <td>0.603781</td>\n      <td>0.601740</td>\n    </tr>\n    <tr>\n      <th>17</th>\n      <td>False</td>\n      <td>True</td>\n      <td>0.9</td>\n      <td>review_headline</td>\n      <td>0.600272</td>\n      <td>0.574190</td>\n    </tr>\n    <tr>\n      <th>18</th>\n      <td>True</td>\n      <td>True</td>\n      <td>0.9</td>\n      <td>review_headline</td>\n      <td>0.598754</td>\n      <td>0.593239</td>\n    </tr>\n  </tbody>\n</table>\n</div>"
     },
     "execution_count": 2,
     "metadata": {},
     "output_type": "execute_result"
    }
   ],
   "source": [
    "corruption_qualitative_review_corruption_naive = do_review_corruption_naive(debug=False,\n",
    "                                                                          corruption_percentages=[0.2, 0.5, 0.9],\n",
    "                                                                          corrupt_features=[\"star_rating\", \"verified_purchase\", \"review_headline\"])\n",
    "save_to_csv(corruption_qualitative_review_corruption_naive, \"corruption_qualitative_review_corruption_naive\")\n",
    "corruption_qualitative_review_corruption_naive"
   ],
   "metadata": {
    "collapsed": false,
    "pycharm": {
     "name": "#%%\n"
    }
   }
  },
  {
   "cell_type": "code",
   "execution_count": 3,
   "outputs": [
    {
     "name": "stdout",
     "output_type": "stream",
     "text": [
      "Done!\n",
      "Done!\n"
     ]
    },
    {
     "data": {
      "text/plain": "    runtimes\n0  89.087625\n1  99.959662",
      "text/html": "<div>\n<style scoped>\n    .dataframe tbody tr th:only-of-type {\n        vertical-align: middle;\n    }\n\n    .dataframe tbody tr th {\n        vertical-align: top;\n    }\n\n    .dataframe thead th {\n        text-align: right;\n    }\n</style>\n<table border=\"1\" class=\"dataframe\">\n  <thead>\n    <tr style=\"text-align: right;\">\n      <th></th>\n      <th>runtimes</th>\n    </tr>\n  </thead>\n  <tbody>\n    <tr>\n      <th>0</th>\n      <td>89.087625</td>\n    </tr>\n    <tr>\n      <th>1</th>\n      <td>99.959662</td>\n    </tr>\n  </tbody>\n</table>\n</div>"
     },
     "execution_count": 3,
     "metadata": {},
     "output_type": "execute_result"
    }
   ],
   "source": [
    "review_corruption_naive_exec_times = measure_review_corruption_naive_exec_time(debug=False,\n",
    "                                                                               corruption_percentages=[0.2, 0.5, 0.9],\n",
    "                                                                               corrupt_features=[\"star_rating\", \"verified_purchase\", \"review_headline\"],\n",
    "                                                                               repeats=2)\n",
    "save_to_csv(review_corruption_naive_exec_times, \"review_corruption_naive_exec_times\")\n",
    "review_corruption_naive_exec_times"
   ],
   "metadata": {
    "collapsed": false,
    "pycharm": {
     "name": "#%%\n"
    }
   }
  },
  {
   "cell_type": "code",
   "execution_count": 4,
   "outputs": [
    {
     "data": {
      "text/plain": "    test_corruption  train_corruption  corruption_fraction            feature  \\\n0             False             False                  NaN               None   \n1              True             False                  0.2        star_rating   \n2              True             False                  0.5        star_rating   \n3              True             False                  0.9        star_rating   \n4              True             False                  0.2  verified_purchase   \n5              True             False                  0.5  verified_purchase   \n6              True             False                  0.9  verified_purchase   \n7              True             False                  0.2    review_headline   \n8              True             False                  0.5    review_headline   \n9              True             False                  0.9    review_headline   \n10             True              True                  0.2        star_rating   \n11             True              True                  0.5        star_rating   \n12             True              True                  0.9        star_rating   \n13             True              True                  0.2  verified_purchase   \n14             True              True                  0.5  verified_purchase   \n15             True              True                  0.9  verified_purchase   \n16             True              True                  0.2    review_headline   \n17             True              True                  0.5    review_headline   \n18             True              True                  0.9    review_headline   \n\n     roc_auc        f1  \n0   0.603719  0.592930  \n1   0.592181  0.595093  \n2   0.584317  0.592294  \n3   0.591144  0.522906  \n4   0.603719  0.592930  \n5   0.603719  0.592930  \n6   0.603719  0.592930  \n7   0.604655  0.593694  \n8   0.604785  0.592341  \n9   0.602354  0.586940  \n10  0.589340  0.589957  \n11  0.572771  0.579845  \n12  0.543927  0.518792  \n13  0.603060  0.589486  \n14  0.605134  0.609507  \n15  0.610053  0.619263  \n16  0.596280  0.573742  \n17  0.599057  0.571495  \n18  0.599101  0.598270  ",
      "text/html": "<div>\n<style scoped>\n    .dataframe tbody tr th:only-of-type {\n        vertical-align: middle;\n    }\n\n    .dataframe tbody tr th {\n        vertical-align: top;\n    }\n\n    .dataframe thead th {\n        text-align: right;\n    }\n</style>\n<table border=\"1\" class=\"dataframe\">\n  <thead>\n    <tr style=\"text-align: right;\">\n      <th></th>\n      <th>test_corruption</th>\n      <th>train_corruption</th>\n      <th>corruption_fraction</th>\n      <th>feature</th>\n      <th>roc_auc</th>\n      <th>f1</th>\n    </tr>\n  </thead>\n  <tbody>\n    <tr>\n      <th>0</th>\n      <td>False</td>\n      <td>False</td>\n      <td>NaN</td>\n      <td>None</td>\n      <td>0.603719</td>\n      <td>0.592930</td>\n    </tr>\n    <tr>\n      <th>1</th>\n      <td>True</td>\n      <td>False</td>\n      <td>0.2</td>\n      <td>star_rating</td>\n      <td>0.592181</td>\n      <td>0.595093</td>\n    </tr>\n    <tr>\n      <th>2</th>\n      <td>True</td>\n      <td>False</td>\n      <td>0.5</td>\n      <td>star_rating</td>\n      <td>0.584317</td>\n      <td>0.592294</td>\n    </tr>\n    <tr>\n      <th>3</th>\n      <td>True</td>\n      <td>False</td>\n      <td>0.9</td>\n      <td>star_rating</td>\n      <td>0.591144</td>\n      <td>0.522906</td>\n    </tr>\n    <tr>\n      <th>4</th>\n      <td>True</td>\n      <td>False</td>\n      <td>0.2</td>\n      <td>verified_purchase</td>\n      <td>0.603719</td>\n      <td>0.592930</td>\n    </tr>\n    <tr>\n      <th>5</th>\n      <td>True</td>\n      <td>False</td>\n      <td>0.5</td>\n      <td>verified_purchase</td>\n      <td>0.603719</td>\n      <td>0.592930</td>\n    </tr>\n    <tr>\n      <th>6</th>\n      <td>True</td>\n      <td>False</td>\n      <td>0.9</td>\n      <td>verified_purchase</td>\n      <td>0.603719</td>\n      <td>0.592930</td>\n    </tr>\n    <tr>\n      <th>7</th>\n      <td>True</td>\n      <td>False</td>\n      <td>0.2</td>\n      <td>review_headline</td>\n      <td>0.604655</td>\n      <td>0.593694</td>\n    </tr>\n    <tr>\n      <th>8</th>\n      <td>True</td>\n      <td>False</td>\n      <td>0.5</td>\n      <td>review_headline</td>\n      <td>0.604785</td>\n      <td>0.592341</td>\n    </tr>\n    <tr>\n      <th>9</th>\n      <td>True</td>\n      <td>False</td>\n      <td>0.9</td>\n      <td>review_headline</td>\n      <td>0.602354</td>\n      <td>0.586940</td>\n    </tr>\n    <tr>\n      <th>10</th>\n      <td>True</td>\n      <td>True</td>\n      <td>0.2</td>\n      <td>star_rating</td>\n      <td>0.589340</td>\n      <td>0.589957</td>\n    </tr>\n    <tr>\n      <th>11</th>\n      <td>True</td>\n      <td>True</td>\n      <td>0.5</td>\n      <td>star_rating</td>\n      <td>0.572771</td>\n      <td>0.579845</td>\n    </tr>\n    <tr>\n      <th>12</th>\n      <td>True</td>\n      <td>True</td>\n      <td>0.9</td>\n      <td>star_rating</td>\n      <td>0.543927</td>\n      <td>0.518792</td>\n    </tr>\n    <tr>\n      <th>13</th>\n      <td>True</td>\n      <td>True</td>\n      <td>0.2</td>\n      <td>verified_purchase</td>\n      <td>0.603060</td>\n      <td>0.589486</td>\n    </tr>\n    <tr>\n      <th>14</th>\n      <td>True</td>\n      <td>True</td>\n      <td>0.5</td>\n      <td>verified_purchase</td>\n      <td>0.605134</td>\n      <td>0.609507</td>\n    </tr>\n    <tr>\n      <th>15</th>\n      <td>True</td>\n      <td>True</td>\n      <td>0.9</td>\n      <td>verified_purchase</td>\n      <td>0.610053</td>\n      <td>0.619263</td>\n    </tr>\n    <tr>\n      <th>16</th>\n      <td>True</td>\n      <td>True</td>\n      <td>0.2</td>\n      <td>review_headline</td>\n      <td>0.596280</td>\n      <td>0.573742</td>\n    </tr>\n    <tr>\n      <th>17</th>\n      <td>True</td>\n      <td>True</td>\n      <td>0.5</td>\n      <td>review_headline</td>\n      <td>0.599057</td>\n      <td>0.571495</td>\n    </tr>\n    <tr>\n      <th>18</th>\n      <td>True</td>\n      <td>True</td>\n      <td>0.9</td>\n      <td>review_headline</td>\n      <td>0.599101</td>\n      <td>0.598270</td>\n    </tr>\n  </tbody>\n</table>\n</div>"
     },
     "execution_count": 4,
     "metadata": {},
     "output_type": "execute_result"
    }
   ],
   "source": [
    "# Other params hard-coded currently\n",
    "# corruption_percentages=[0.2, 0.5, 0.9], corrupt_features=[\"star_rating\", \"verified_purchase\", \"review_headline\"]\n",
    "corruption_qualitative_review_corruption_opt = do_review_corruption_opt(debug=False)\n",
    "save_to_csv(corruption_qualitative_review_corruption_opt, \"corruption_qualitative_review_corruption_opt\")\n",
    "corruption_qualitative_review_corruption_opt"
   ],
   "metadata": {
    "collapsed": false,
    "pycharm": {
     "name": "#%%\n"
    }
   }
  },
  {
   "cell_type": "code",
   "execution_count": 5,
   "outputs": [
    {
     "name": "stdout",
     "output_type": "stream",
     "text": [
      "Done!\n",
      "Done!\n",
      "Done!\n"
     ]
    },
    {
     "data": {
      "text/plain": "    runtimes\n0  12.766671\n1  12.526480\n2  12.779250",
      "text/html": "<div>\n<style scoped>\n    .dataframe tbody tr th:only-of-type {\n        vertical-align: middle;\n    }\n\n    .dataframe tbody tr th {\n        vertical-align: top;\n    }\n\n    .dataframe thead th {\n        text-align: right;\n    }\n</style>\n<table border=\"1\" class=\"dataframe\">\n  <thead>\n    <tr style=\"text-align: right;\">\n      <th></th>\n      <th>runtimes</th>\n    </tr>\n  </thead>\n  <tbody>\n    <tr>\n      <th>0</th>\n      <td>12.766671</td>\n    </tr>\n    <tr>\n      <th>1</th>\n      <td>12.526480</td>\n    </tr>\n    <tr>\n      <th>2</th>\n      <td>12.779250</td>\n    </tr>\n  </tbody>\n</table>\n</div>"
     },
     "execution_count": 5,
     "metadata": {},
     "output_type": "execute_result"
    }
   ],
   "source": [
    "# Other params hard-coded currently\n",
    "# corruption_percentages=[0.2, 0.5, 0.9], corrupt_features=[\"star_rating\", \"verified_purchase\", \"review_headline\"]\n",
    "review_corruption_opt_exec_times = measure_review_corruption_opt_exec_time(debug=False, repeats=3)  # 30\n",
    "save_to_csv(review_corruption_opt_exec_times, \"review_corruption_opt_exec_times\")\n",
    "review_corruption_opt_exec_times"
   ],
   "metadata": {
    "collapsed": false,
    "pycharm": {
     "name": "#%%\n"
    }
   }
  },
  {
   "cell_type": "code",
   "execution_count": 6,
   "outputs": [
    {
     "data": {
      "text/plain": "    test_corruption  train_corruption  corruption_fraction    feature  \\\n0             False             False                  NaN       None   \n1             False              True                  0.2        age   \n2              True              True                  0.2        age   \n3             False              True                  0.5        age   \n4              True              True                  0.5        age   \n5             False              True                  0.9        age   \n6              True              True                  0.9        age   \n7             False              True                  0.2  workclass   \n8              True              True                  0.2  workclass   \n9             False              True                  0.5  workclass   \n10             True              True                  0.5  workclass   \n11            False              True                  0.9  workclass   \n12             True              True                  0.9  workclass   \n13            False              True                  0.2  education   \n14             True              True                  0.2  education   \n15            False              True                  0.5  education   \n16             True              True                  0.5  education   \n17            False              True                  0.9  education   \n18             True              True                  0.9  education   \n\n    accuracy  non_protected_fnr  protected_fnr  \n0   0.816078           0.348858       0.451754  \n1   0.700648           0.587457       0.745645  \n2   0.815549           0.321739       0.409836  \n3   0.529023           0.693842       0.823682  \n4   0.816541           0.296770       0.379085  \n5   0.289105           0.749268       0.848437  \n6   0.816739           0.318478       0.392265  \n7   0.819149           0.278944       0.364286  \n8   0.818104           0.330332       0.427885  \n9   0.815822           0.276333       0.361111  \n10  0.812817           0.341791       0.447964  \n11  0.812742           0.351339       0.449153  \n12  0.810964           0.254618       0.313869  \n13  0.817731           0.295386       0.372549  \n14  0.812508           0.340729       0.383721  \n15  0.810525           0.323281       0.414013  \n16  0.813169           0.325555       0.376543  \n17  0.800608           0.273772       0.329545  \n18  0.811583           0.288543       0.383459  ",
      "text/html": "<div>\n<style scoped>\n    .dataframe tbody tr th:only-of-type {\n        vertical-align: middle;\n    }\n\n    .dataframe tbody tr th {\n        vertical-align: top;\n    }\n\n    .dataframe thead th {\n        text-align: right;\n    }\n</style>\n<table border=\"1\" class=\"dataframe\">\n  <thead>\n    <tr style=\"text-align: right;\">\n      <th></th>\n      <th>test_corruption</th>\n      <th>train_corruption</th>\n      <th>corruption_fraction</th>\n      <th>feature</th>\n      <th>accuracy</th>\n      <th>non_protected_fnr</th>\n      <th>protected_fnr</th>\n    </tr>\n  </thead>\n  <tbody>\n    <tr>\n      <th>0</th>\n      <td>False</td>\n      <td>False</td>\n      <td>NaN</td>\n      <td>None</td>\n      <td>0.816078</td>\n      <td>0.348858</td>\n      <td>0.451754</td>\n    </tr>\n    <tr>\n      <th>1</th>\n      <td>False</td>\n      <td>True</td>\n      <td>0.2</td>\n      <td>age</td>\n      <td>0.700648</td>\n      <td>0.587457</td>\n      <td>0.745645</td>\n    </tr>\n    <tr>\n      <th>2</th>\n      <td>True</td>\n      <td>True</td>\n      <td>0.2</td>\n      <td>age</td>\n      <td>0.815549</td>\n      <td>0.321739</td>\n      <td>0.409836</td>\n    </tr>\n    <tr>\n      <th>3</th>\n      <td>False</td>\n      <td>True</td>\n      <td>0.5</td>\n      <td>age</td>\n      <td>0.529023</td>\n      <td>0.693842</td>\n      <td>0.823682</td>\n    </tr>\n    <tr>\n      <th>4</th>\n      <td>True</td>\n      <td>True</td>\n      <td>0.5</td>\n      <td>age</td>\n      <td>0.816541</td>\n      <td>0.296770</td>\n      <td>0.379085</td>\n    </tr>\n    <tr>\n      <th>5</th>\n      <td>False</td>\n      <td>True</td>\n      <td>0.9</td>\n      <td>age</td>\n      <td>0.289105</td>\n      <td>0.749268</td>\n      <td>0.848437</td>\n    </tr>\n    <tr>\n      <th>6</th>\n      <td>True</td>\n      <td>True</td>\n      <td>0.9</td>\n      <td>age</td>\n      <td>0.816739</td>\n      <td>0.318478</td>\n      <td>0.392265</td>\n    </tr>\n    <tr>\n      <th>7</th>\n      <td>False</td>\n      <td>True</td>\n      <td>0.2</td>\n      <td>workclass</td>\n      <td>0.819149</td>\n      <td>0.278944</td>\n      <td>0.364286</td>\n    </tr>\n    <tr>\n      <th>8</th>\n      <td>True</td>\n      <td>True</td>\n      <td>0.2</td>\n      <td>workclass</td>\n      <td>0.818104</td>\n      <td>0.330332</td>\n      <td>0.427885</td>\n    </tr>\n    <tr>\n      <th>9</th>\n      <td>False</td>\n      <td>True</td>\n      <td>0.5</td>\n      <td>workclass</td>\n      <td>0.815822</td>\n      <td>0.276333</td>\n      <td>0.361111</td>\n    </tr>\n    <tr>\n      <th>10</th>\n      <td>True</td>\n      <td>True</td>\n      <td>0.5</td>\n      <td>workclass</td>\n      <td>0.812817</td>\n      <td>0.341791</td>\n      <td>0.447964</td>\n    </tr>\n    <tr>\n      <th>11</th>\n      <td>False</td>\n      <td>True</td>\n      <td>0.9</td>\n      <td>workclass</td>\n      <td>0.812742</td>\n      <td>0.351339</td>\n      <td>0.449153</td>\n    </tr>\n    <tr>\n      <th>12</th>\n      <td>True</td>\n      <td>True</td>\n      <td>0.9</td>\n      <td>workclass</td>\n      <td>0.810964</td>\n      <td>0.254618</td>\n      <td>0.313869</td>\n    </tr>\n    <tr>\n      <th>13</th>\n      <td>False</td>\n      <td>True</td>\n      <td>0.2</td>\n      <td>education</td>\n      <td>0.817731</td>\n      <td>0.295386</td>\n      <td>0.372549</td>\n    </tr>\n    <tr>\n      <th>14</th>\n      <td>True</td>\n      <td>True</td>\n      <td>0.2</td>\n      <td>education</td>\n      <td>0.812508</td>\n      <td>0.340729</td>\n      <td>0.383721</td>\n    </tr>\n    <tr>\n      <th>15</th>\n      <td>False</td>\n      <td>True</td>\n      <td>0.5</td>\n      <td>education</td>\n      <td>0.810525</td>\n      <td>0.323281</td>\n      <td>0.414013</td>\n    </tr>\n    <tr>\n      <th>16</th>\n      <td>True</td>\n      <td>True</td>\n      <td>0.5</td>\n      <td>education</td>\n      <td>0.813169</td>\n      <td>0.325555</td>\n      <td>0.376543</td>\n    </tr>\n    <tr>\n      <th>17</th>\n      <td>False</td>\n      <td>True</td>\n      <td>0.9</td>\n      <td>education</td>\n      <td>0.800608</td>\n      <td>0.273772</td>\n      <td>0.329545</td>\n    </tr>\n    <tr>\n      <th>18</th>\n      <td>True</td>\n      <td>True</td>\n      <td>0.9</td>\n      <td>education</td>\n      <td>0.811583</td>\n      <td>0.288543</td>\n      <td>0.383459</td>\n    </tr>\n  </tbody>\n</table>\n</div>"
     },
     "execution_count": 6,
     "metadata": {},
     "output_type": "execute_result"
    }
   ],
   "source": [
    "corruption_qualitative_credit_corruption_naive = do_credit_corruption_naive(debug=False,\n",
    "                                                                          corruption_percentages=[0.2, 0.5, 0.9],\n",
    "                                                                          corrupt_features=[\"age\", \"workclass\", \"education\"])\n",
    "save_to_csv(corruption_qualitative_credit_corruption_naive, \"corruption_qualitative_credit_corruption_naive\")\n",
    "corruption_qualitative_credit_corruption_naive"
   ],
   "metadata": {
    "collapsed": false,
    "pycharm": {
     "name": "#%%\n"
    }
   }
  },
  {
   "cell_type": "code",
   "execution_count": 7,
   "outputs": [
    {
     "name": "stdout",
     "output_type": "stream",
     "text": [
      "Done!\n",
      "Done!\n"
     ]
    },
    {
     "data": {
      "text/plain": "    runtimes\n0  16.980950\n1  17.438392",
      "text/html": "<div>\n<style scoped>\n    .dataframe tbody tr th:only-of-type {\n        vertical-align: middle;\n    }\n\n    .dataframe tbody tr th {\n        vertical-align: top;\n    }\n\n    .dataframe thead th {\n        text-align: right;\n    }\n</style>\n<table border=\"1\" class=\"dataframe\">\n  <thead>\n    <tr style=\"text-align: right;\">\n      <th></th>\n      <th>runtimes</th>\n    </tr>\n  </thead>\n  <tbody>\n    <tr>\n      <th>0</th>\n      <td>16.980950</td>\n    </tr>\n    <tr>\n      <th>1</th>\n      <td>17.438392</td>\n    </tr>\n  </tbody>\n</table>\n</div>"
     },
     "execution_count": 7,
     "metadata": {},
     "output_type": "execute_result"
    }
   ],
   "source": [
    "credit_corruption_naive_exec_times = measure_credit_corruption_naive_exec_time(debug=False,\n",
    "                                                                               corruption_percentages=[0.2, 0.5, 0.9],\n",
    "                                                                               corrupt_features=[\"age\", \"workclass\", \"education\"],\n",
    "                                                                               repeats=2)\n",
    "save_to_csv(credit_corruption_naive_exec_times, \"credit_corruption_naive_exec_times\")\n",
    "credit_corruption_naive_exec_times"
   ],
   "metadata": {
    "collapsed": false,
    "pycharm": {
     "name": "#%%\n"
    }
   }
  },
  {
   "cell_type": "code",
   "execution_count": 8,
   "outputs": [
    {
     "data": {
      "text/plain": "    test_corruption  train_corruption  corruption_fraction    feature  \\\n0             False             False                  NaN       None   \n1              True             False                  0.2        age   \n2              True             False                  0.5        age   \n3              True             False                  0.9        age   \n4              True             False                  0.2  workclass   \n5              True             False                  0.5  workclass   \n6              True             False                  0.9  workclass   \n7              True             False                  0.2  education   \n8              True             False                  0.5  education   \n9              True             False                  0.9  education   \n10             True              True                  0.2        age   \n11             True              True                  0.5        age   \n12             True              True                  0.9        age   \n13             True              True                  0.2  workclass   \n14             True              True                  0.5  workclass   \n15             True              True                  0.9  workclass   \n16             True              True                  0.2  education   \n17             True              True                  0.5  education   \n18             True              True                  0.9  education   \n\n    accuracy  non_protected_fnr  protected_fnr  \n0   0.819714           0.322244       0.403226  \n1   0.701111           0.593980       0.729282  \n2   0.519305           0.702703       0.820051  \n3   0.288907           0.748516       0.852537  \n4   0.817929           0.314546       0.402299  \n5   0.816144           0.301095       0.358974  \n6   0.810591           0.287500       0.367647  \n7   0.815946           0.314619       0.414634  \n8   0.811517           0.302872       0.413043  \n9   0.802856           0.291519       0.378641  \n10  0.814095           0.302399       0.360544  \n11  0.810789           0.370682       0.420290  \n12  0.814822           0.312610       0.372549  \n13  0.819582           0.319458       0.424242  \n14  0.817731           0.342959       0.468354  \n15  0.811979           0.359982       0.468880  \n16  0.811781           0.375154       0.449339  \n17  0.807814           0.327747       0.442177  \n18  0.807484           0.365171       0.479167  ",
      "text/html": "<div>\n<style scoped>\n    .dataframe tbody tr th:only-of-type {\n        vertical-align: middle;\n    }\n\n    .dataframe tbody tr th {\n        vertical-align: top;\n    }\n\n    .dataframe thead th {\n        text-align: right;\n    }\n</style>\n<table border=\"1\" class=\"dataframe\">\n  <thead>\n    <tr style=\"text-align: right;\">\n      <th></th>\n      <th>test_corruption</th>\n      <th>train_corruption</th>\n      <th>corruption_fraction</th>\n      <th>feature</th>\n      <th>accuracy</th>\n      <th>non_protected_fnr</th>\n      <th>protected_fnr</th>\n    </tr>\n  </thead>\n  <tbody>\n    <tr>\n      <th>0</th>\n      <td>False</td>\n      <td>False</td>\n      <td>NaN</td>\n      <td>None</td>\n      <td>0.819714</td>\n      <td>0.322244</td>\n      <td>0.403226</td>\n    </tr>\n    <tr>\n      <th>1</th>\n      <td>True</td>\n      <td>False</td>\n      <td>0.2</td>\n      <td>age</td>\n      <td>0.701111</td>\n      <td>0.593980</td>\n      <td>0.729282</td>\n    </tr>\n    <tr>\n      <th>2</th>\n      <td>True</td>\n      <td>False</td>\n      <td>0.5</td>\n      <td>age</td>\n      <td>0.519305</td>\n      <td>0.702703</td>\n      <td>0.820051</td>\n    </tr>\n    <tr>\n      <th>3</th>\n      <td>True</td>\n      <td>False</td>\n      <td>0.9</td>\n      <td>age</td>\n      <td>0.288907</td>\n      <td>0.748516</td>\n      <td>0.852537</td>\n    </tr>\n    <tr>\n      <th>4</th>\n      <td>True</td>\n      <td>False</td>\n      <td>0.2</td>\n      <td>workclass</td>\n      <td>0.817929</td>\n      <td>0.314546</td>\n      <td>0.402299</td>\n    </tr>\n    <tr>\n      <th>5</th>\n      <td>True</td>\n      <td>False</td>\n      <td>0.5</td>\n      <td>workclass</td>\n      <td>0.816144</td>\n      <td>0.301095</td>\n      <td>0.358974</td>\n    </tr>\n    <tr>\n      <th>6</th>\n      <td>True</td>\n      <td>False</td>\n      <td>0.9</td>\n      <td>workclass</td>\n      <td>0.810591</td>\n      <td>0.287500</td>\n      <td>0.367647</td>\n    </tr>\n    <tr>\n      <th>7</th>\n      <td>True</td>\n      <td>False</td>\n      <td>0.2</td>\n      <td>education</td>\n      <td>0.815946</td>\n      <td>0.314619</td>\n      <td>0.414634</td>\n    </tr>\n    <tr>\n      <th>8</th>\n      <td>True</td>\n      <td>False</td>\n      <td>0.5</td>\n      <td>education</td>\n      <td>0.811517</td>\n      <td>0.302872</td>\n      <td>0.413043</td>\n    </tr>\n    <tr>\n      <th>9</th>\n      <td>True</td>\n      <td>False</td>\n      <td>0.9</td>\n      <td>education</td>\n      <td>0.802856</td>\n      <td>0.291519</td>\n      <td>0.378641</td>\n    </tr>\n    <tr>\n      <th>10</th>\n      <td>True</td>\n      <td>True</td>\n      <td>0.2</td>\n      <td>age</td>\n      <td>0.814095</td>\n      <td>0.302399</td>\n      <td>0.360544</td>\n    </tr>\n    <tr>\n      <th>11</th>\n      <td>True</td>\n      <td>True</td>\n      <td>0.5</td>\n      <td>age</td>\n      <td>0.810789</td>\n      <td>0.370682</td>\n      <td>0.420290</td>\n    </tr>\n    <tr>\n      <th>12</th>\n      <td>True</td>\n      <td>True</td>\n      <td>0.9</td>\n      <td>age</td>\n      <td>0.814822</td>\n      <td>0.312610</td>\n      <td>0.372549</td>\n    </tr>\n    <tr>\n      <th>13</th>\n      <td>True</td>\n      <td>True</td>\n      <td>0.2</td>\n      <td>workclass</td>\n      <td>0.819582</td>\n      <td>0.319458</td>\n      <td>0.424242</td>\n    </tr>\n    <tr>\n      <th>14</th>\n      <td>True</td>\n      <td>True</td>\n      <td>0.5</td>\n      <td>workclass</td>\n      <td>0.817731</td>\n      <td>0.342959</td>\n      <td>0.468354</td>\n    </tr>\n    <tr>\n      <th>15</th>\n      <td>True</td>\n      <td>True</td>\n      <td>0.9</td>\n      <td>workclass</td>\n      <td>0.811979</td>\n      <td>0.359982</td>\n      <td>0.468880</td>\n    </tr>\n    <tr>\n      <th>16</th>\n      <td>True</td>\n      <td>True</td>\n      <td>0.2</td>\n      <td>education</td>\n      <td>0.811781</td>\n      <td>0.375154</td>\n      <td>0.449339</td>\n    </tr>\n    <tr>\n      <th>17</th>\n      <td>True</td>\n      <td>True</td>\n      <td>0.5</td>\n      <td>education</td>\n      <td>0.807814</td>\n      <td>0.327747</td>\n      <td>0.442177</td>\n    </tr>\n    <tr>\n      <th>18</th>\n      <td>True</td>\n      <td>True</td>\n      <td>0.9</td>\n      <td>education</td>\n      <td>0.807484</td>\n      <td>0.365171</td>\n      <td>0.479167</td>\n    </tr>\n  </tbody>\n</table>\n</div>"
     },
     "execution_count": 8,
     "metadata": {},
     "output_type": "execute_result"
    }
   ],
   "source": [
    "# Other params hard-coded currently\n",
    "# corruption_percentages=[0.2, 0.5, 0.9], corrupt_features=[\"age\", \"workclass\", \"education\"]\n",
    "corruption_qualitative_credit_corruption_opt = do_credit_corruption_opt(debug=False)\n",
    "save_to_csv(corruption_qualitative_credit_corruption_opt, \"corruption_qualitative_credit_corruption_opt\")\n",
    "corruption_qualitative_credit_corruption_opt"
   ],
   "metadata": {
    "collapsed": false,
    "pycharm": {
     "name": "#%%\n"
    }
   }
  },
  {
   "cell_type": "code",
   "execution_count": 9,
   "outputs": [
    {
     "name": "stdout",
     "output_type": "stream",
     "text": [
      "Done!\n",
      "Done!\n"
     ]
    },
    {
     "data": {
      "text/plain": "   runtimes\n0   2.80461\n1   2.64352",
      "text/html": "<div>\n<style scoped>\n    .dataframe tbody tr th:only-of-type {\n        vertical-align: middle;\n    }\n\n    .dataframe tbody tr th {\n        vertical-align: top;\n    }\n\n    .dataframe thead th {\n        text-align: right;\n    }\n</style>\n<table border=\"1\" class=\"dataframe\">\n  <thead>\n    <tr style=\"text-align: right;\">\n      <th></th>\n      <th>runtimes</th>\n    </tr>\n  </thead>\n  <tbody>\n    <tr>\n      <th>0</th>\n      <td>2.80461</td>\n    </tr>\n    <tr>\n      <th>1</th>\n      <td>2.64352</td>\n    </tr>\n  </tbody>\n</table>\n</div>"
     },
     "execution_count": 9,
     "metadata": {},
     "output_type": "execute_result"
    }
   ],
   "source": [
    "# Other params hard-coded currently\n",
    "# corruption_percentages=[0.2, 0.5, 0.9], corrupt_features=[\"age\", \"workclass\", \"education\"]review_corruption_opt_exec_times = measure_review_corruption_opt_exec_time(debug=True, repeats=30)\n",
    "credit_corruption_opt_exec_times = measure_credit_corruption_opt_exec_time(debug=False, repeats=2)\n",
    "save_to_csv(credit_corruption_opt_exec_times, \"credit_corruption_opt_exec_times\")\n",
    "credit_corruption_opt_exec_times"
   ],
   "metadata": {
    "collapsed": false,
    "pycharm": {
     "name": "#%%\n"
    }
   }
  }
 ],
 "metadata": {
  "kernelspec": {
   "display_name": "Python 3 (ipykernel)",
   "language": "python",
   "name": "python3"
  },
  "language_info": {
   "codemirror_mode": {
    "name": "ipython",
    "version": 3
   },
   "file_extension": ".py",
   "mimetype": "text/x-python",
   "name": "python",
   "nbconvert_exporter": "python",
   "pygments_lexer": "ipython3",
   "version": "3.9.5"
  }
 },
 "nbformat": 4,
 "nbformat_minor": 4
}