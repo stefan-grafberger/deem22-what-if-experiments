{
 "cells": [
  {
   "cell_type": "code",
   "execution_count": 1,
   "metadata": {},
   "outputs": [],
   "source": [
    "from whatif.experiments.credit_data_corruptions_naive import do_credit_corruption_naive, \\\n",
    "    measure_credit_corruption_naive_exec_time\n",
    "from whatif.experiments.credit_data_corruptions_opt import do_credit_corruption_opt, \\\n",
    "    measure_credit_corruption_opt_exec_time\n",
    "from whatif.experiments.helpful_reviews_data_corruptions_naive import do_review_corruption_naive, \\\n",
    "    measure_review_corruption_naive_exec_time\n",
    "from whatif.experiments.helpful_reviews_data_corruptions_opt import do_review_corruption_opt, \\\n",
    "    measure_review_corruption_opt_exec_time\n",
    "from whatif.utils.utils import get_project_root\n",
    "\n",
    "def save_to_csv(df, filename):\n",
    "    df.to_csv(f'{str(get_project_root())}/whatif/experiments/results/{filename}.csv',\n",
    "              index=False)"
   ]
  },
  {
   "cell_type": "code",
   "execution_count": 2,
   "outputs": [
    {
     "data": {
      "text/plain": "    test_corruption  train_corruption  corruption_fraction            feature  \\\n0             False             False                  NaN               None   \n1             False              True                  0.2        star_rating   \n2              True              True                  0.2        star_rating   \n3             False              True                  0.5        star_rating   \n4              True              True                  0.5        star_rating   \n5             False              True                  0.9        star_rating   \n6              True              True                  0.9        star_rating   \n7             False              True                  0.2  verified_purchase   \n8              True              True                  0.2  verified_purchase   \n9             False              True                  0.5  verified_purchase   \n10             True              True                  0.5  verified_purchase   \n11            False              True                  0.9  verified_purchase   \n12             True              True                  0.9  verified_purchase   \n13            False              True                  0.2    review_headline   \n14             True              True                  0.2    review_headline   \n15            False              True                  0.5    review_headline   \n16             True              True                  0.5    review_headline   \n17            False              True                  0.9    review_headline   \n18             True              True                  0.9    review_headline   \n\n     roc_auc        f1  \n0   0.601900  0.595836  \n1   0.592103  0.592516  \n2   0.593287  0.535685  \n3   0.584115  0.591470  \n4   0.569499  0.571836  \n5   0.567841  0.517675  \n6   0.588615  0.551218  \n7   0.603107  0.592270  \n8   0.602677  0.589833  \n9   0.602724  0.581546  \n10  0.599308  0.569086  \n11  0.605348  0.593446  \n12  0.606051  0.590328  \n13  0.605845  0.597984  \n14  0.605210  0.597759  \n15  0.598977  0.583606  \n16  0.598541  0.577877  \n17  0.598879  0.595570  \n18  0.607696  0.613544  ",
      "text/html": "<div>\n<style scoped>\n    .dataframe tbody tr th:only-of-type {\n        vertical-align: middle;\n    }\n\n    .dataframe tbody tr th {\n        vertical-align: top;\n    }\n\n    .dataframe thead th {\n        text-align: right;\n    }\n</style>\n<table border=\"1\" class=\"dataframe\">\n  <thead>\n    <tr style=\"text-align: right;\">\n      <th></th>\n      <th>test_corruption</th>\n      <th>train_corruption</th>\n      <th>corruption_fraction</th>\n      <th>feature</th>\n      <th>roc_auc</th>\n      <th>f1</th>\n    </tr>\n  </thead>\n  <tbody>\n    <tr>\n      <th>0</th>\n      <td>False</td>\n      <td>False</td>\n      <td>NaN</td>\n      <td>None</td>\n      <td>0.601900</td>\n      <td>0.595836</td>\n    </tr>\n    <tr>\n      <th>1</th>\n      <td>False</td>\n      <td>True</td>\n      <td>0.2</td>\n      <td>star_rating</td>\n      <td>0.592103</td>\n      <td>0.592516</td>\n    </tr>\n    <tr>\n      <th>2</th>\n      <td>True</td>\n      <td>True</td>\n      <td>0.2</td>\n      <td>star_rating</td>\n      <td>0.593287</td>\n      <td>0.535685</td>\n    </tr>\n    <tr>\n      <th>3</th>\n      <td>False</td>\n      <td>True</td>\n      <td>0.5</td>\n      <td>star_rating</td>\n      <td>0.584115</td>\n      <td>0.591470</td>\n    </tr>\n    <tr>\n      <th>4</th>\n      <td>True</td>\n      <td>True</td>\n      <td>0.5</td>\n      <td>star_rating</td>\n      <td>0.569499</td>\n      <td>0.571836</td>\n    </tr>\n    <tr>\n      <th>5</th>\n      <td>False</td>\n      <td>True</td>\n      <td>0.9</td>\n      <td>star_rating</td>\n      <td>0.567841</td>\n      <td>0.517675</td>\n    </tr>\n    <tr>\n      <th>6</th>\n      <td>True</td>\n      <td>True</td>\n      <td>0.9</td>\n      <td>star_rating</td>\n      <td>0.588615</td>\n      <td>0.551218</td>\n    </tr>\n    <tr>\n      <th>7</th>\n      <td>False</td>\n      <td>True</td>\n      <td>0.2</td>\n      <td>verified_purchase</td>\n      <td>0.603107</td>\n      <td>0.592270</td>\n    </tr>\n    <tr>\n      <th>8</th>\n      <td>True</td>\n      <td>True</td>\n      <td>0.2</td>\n      <td>verified_purchase</td>\n      <td>0.602677</td>\n      <td>0.589833</td>\n    </tr>\n    <tr>\n      <th>9</th>\n      <td>False</td>\n      <td>True</td>\n      <td>0.5</td>\n      <td>verified_purchase</td>\n      <td>0.602724</td>\n      <td>0.581546</td>\n    </tr>\n    <tr>\n      <th>10</th>\n      <td>True</td>\n      <td>True</td>\n      <td>0.5</td>\n      <td>verified_purchase</td>\n      <td>0.599308</td>\n      <td>0.569086</td>\n    </tr>\n    <tr>\n      <th>11</th>\n      <td>False</td>\n      <td>True</td>\n      <td>0.9</td>\n      <td>verified_purchase</td>\n      <td>0.605348</td>\n      <td>0.593446</td>\n    </tr>\n    <tr>\n      <th>12</th>\n      <td>True</td>\n      <td>True</td>\n      <td>0.9</td>\n      <td>verified_purchase</td>\n      <td>0.606051</td>\n      <td>0.590328</td>\n    </tr>\n    <tr>\n      <th>13</th>\n      <td>False</td>\n      <td>True</td>\n      <td>0.2</td>\n      <td>review_headline</td>\n      <td>0.605845</td>\n      <td>0.597984</td>\n    </tr>\n    <tr>\n      <th>14</th>\n      <td>True</td>\n      <td>True</td>\n      <td>0.2</td>\n      <td>review_headline</td>\n      <td>0.605210</td>\n      <td>0.597759</td>\n    </tr>\n    <tr>\n      <th>15</th>\n      <td>False</td>\n      <td>True</td>\n      <td>0.5</td>\n      <td>review_headline</td>\n      <td>0.598977</td>\n      <td>0.583606</td>\n    </tr>\n    <tr>\n      <th>16</th>\n      <td>True</td>\n      <td>True</td>\n      <td>0.5</td>\n      <td>review_headline</td>\n      <td>0.598541</td>\n      <td>0.577877</td>\n    </tr>\n    <tr>\n      <th>17</th>\n      <td>False</td>\n      <td>True</td>\n      <td>0.9</td>\n      <td>review_headline</td>\n      <td>0.598879</td>\n      <td>0.595570</td>\n    </tr>\n    <tr>\n      <th>18</th>\n      <td>True</td>\n      <td>True</td>\n      <td>0.9</td>\n      <td>review_headline</td>\n      <td>0.607696</td>\n      <td>0.613544</td>\n    </tr>\n  </tbody>\n</table>\n</div>"
     },
     "execution_count": 2,
     "metadata": {},
     "output_type": "execute_result"
    }
   ],
   "source": [
    "corruption_qualitative_review_corruption_naive = do_review_corruption_naive(debug=False,\n",
    "                                                                          corruption_percentages=[0.2, 0.5, 0.9],\n",
    "                                                                          corrupt_features=[\"star_rating\", \"verified_purchase\", \"review_headline\"])\n",
    "save_to_csv(corruption_qualitative_review_corruption_naive, \"corruption_qualitative_review_corruption_naive\")\n",
    "corruption_qualitative_review_corruption_naive"
   ],
   "metadata": {
    "collapsed": false,
    "pycharm": {
     "name": "#%%\n"
    }
   }
  },
  {
   "cell_type": "code",
   "execution_count": 3,
   "outputs": [
    {
     "name": "stdout",
     "output_type": "stream",
     "text": [
      "Done!\n",
      "Done!\n",
      "Done!\n",
      "Done!\n",
      "Done!\n",
      "Done!\n",
      "Done!\n",
      "Done!\n",
      "Done!\n",
      "Done!\n",
      "Done!\n",
      "Done!\n",
      "Done!\n",
      "Done!\n",
      "Done!\n",
      "Done!\n",
      "Done!\n",
      "Done!\n",
      "Done!\n",
      "Done!\n",
      "Done!\n",
      "Done!\n",
      "Done!\n",
      "Done!\n",
      "Done!\n",
      "Done!\n",
      "Done!\n",
      "Done!\n",
      "Done!\n",
      "Done!\n"
     ]
    },
    {
     "data": {
      "text/plain": "     runtimes\n0   76.868191\n1   73.025943\n2   73.020122\n3   72.676763\n4   72.605270\n5   72.389871\n6   72.665069\n7   72.484092\n8   72.133285\n9   72.468354\n10  72.602636\n11  72.112036\n12  72.399783\n13  72.418259\n14  73.655586\n15  73.032610\n16  72.606631\n17  72.591323\n18  72.488645\n19  72.422779\n20  72.577077\n21  72.789030\n22  73.058751\n23  72.420273\n24  72.249086\n25  72.674936\n26  72.571691\n27  72.844578\n28  72.026914\n29  72.147342",
      "text/html": "<div>\n<style scoped>\n    .dataframe tbody tr th:only-of-type {\n        vertical-align: middle;\n    }\n\n    .dataframe tbody tr th {\n        vertical-align: top;\n    }\n\n    .dataframe thead th {\n        text-align: right;\n    }\n</style>\n<table border=\"1\" class=\"dataframe\">\n  <thead>\n    <tr style=\"text-align: right;\">\n      <th></th>\n      <th>runtimes</th>\n    </tr>\n  </thead>\n  <tbody>\n    <tr>\n      <th>0</th>\n      <td>76.868191</td>\n    </tr>\n    <tr>\n      <th>1</th>\n      <td>73.025943</td>\n    </tr>\n    <tr>\n      <th>2</th>\n      <td>73.020122</td>\n    </tr>\n    <tr>\n      <th>3</th>\n      <td>72.676763</td>\n    </tr>\n    <tr>\n      <th>4</th>\n      <td>72.605270</td>\n    </tr>\n    <tr>\n      <th>5</th>\n      <td>72.389871</td>\n    </tr>\n    <tr>\n      <th>6</th>\n      <td>72.665069</td>\n    </tr>\n    <tr>\n      <th>7</th>\n      <td>72.484092</td>\n    </tr>\n    <tr>\n      <th>8</th>\n      <td>72.133285</td>\n    </tr>\n    <tr>\n      <th>9</th>\n      <td>72.468354</td>\n    </tr>\n    <tr>\n      <th>10</th>\n      <td>72.602636</td>\n    </tr>\n    <tr>\n      <th>11</th>\n      <td>72.112036</td>\n    </tr>\n    <tr>\n      <th>12</th>\n      <td>72.399783</td>\n    </tr>\n    <tr>\n      <th>13</th>\n      <td>72.418259</td>\n    </tr>\n    <tr>\n      <th>14</th>\n      <td>73.655586</td>\n    </tr>\n    <tr>\n      <th>15</th>\n      <td>73.032610</td>\n    </tr>\n    <tr>\n      <th>16</th>\n      <td>72.606631</td>\n    </tr>\n    <tr>\n      <th>17</th>\n      <td>72.591323</td>\n    </tr>\n    <tr>\n      <th>18</th>\n      <td>72.488645</td>\n    </tr>\n    <tr>\n      <th>19</th>\n      <td>72.422779</td>\n    </tr>\n    <tr>\n      <th>20</th>\n      <td>72.577077</td>\n    </tr>\n    <tr>\n      <th>21</th>\n      <td>72.789030</td>\n    </tr>\n    <tr>\n      <th>22</th>\n      <td>73.058751</td>\n    </tr>\n    <tr>\n      <th>23</th>\n      <td>72.420273</td>\n    </tr>\n    <tr>\n      <th>24</th>\n      <td>72.249086</td>\n    </tr>\n    <tr>\n      <th>25</th>\n      <td>72.674936</td>\n    </tr>\n    <tr>\n      <th>26</th>\n      <td>72.571691</td>\n    </tr>\n    <tr>\n      <th>27</th>\n      <td>72.844578</td>\n    </tr>\n    <tr>\n      <th>28</th>\n      <td>72.026914</td>\n    </tr>\n    <tr>\n      <th>29</th>\n      <td>72.147342</td>\n    </tr>\n  </tbody>\n</table>\n</div>"
     },
     "execution_count": 3,
     "metadata": {},
     "output_type": "execute_result"
    }
   ],
   "source": [
    "review_corruption_naive_exec_times = measure_review_corruption_naive_exec_time(debug=False,\n",
    "                                                                               corruption_percentages=[0.2, 0.5, 0.9],\n",
    "                                                                               corrupt_features=[\"star_rating\", \"verified_purchase\", \"review_headline\"],\n",
    "                                                                               repeats=30)\n",
    "save_to_csv(review_corruption_naive_exec_times, \"review_corruption_naive_exec_times\")\n",
    "review_corruption_naive_exec_times"
   ],
   "metadata": {
    "collapsed": false,
    "pycharm": {
     "name": "#%%\n"
    }
   }
  },
  {
   "cell_type": "code",
   "execution_count": 4,
   "outputs": [
    {
     "data": {
      "text/plain": "    test_corruption  train_corruption  corruption_fraction            feature  \\\n0             False             False                  NaN               None   \n1              True             False                  0.2        star_rating   \n2              True             False                  0.5        star_rating   \n3              True             False                  0.9        star_rating   \n4              True             False                  0.2  verified_purchase   \n5              True             False                  0.5  verified_purchase   \n6              True             False                  0.9  verified_purchase   \n7              True             False                  0.2    review_headline   \n8              True             False                  0.5    review_headline   \n9              True             False                  0.9    review_headline   \n10             True              True                  0.2        star_rating   \n11             True              True                  0.5        star_rating   \n12             True              True                  0.9        star_rating   \n13             True              True                  0.2  verified_purchase   \n14             True              True                  0.5  verified_purchase   \n15             True              True                  0.9  verified_purchase   \n16             True              True                  0.2    review_headline   \n17             True              True                  0.5    review_headline   \n18             True              True                  0.9    review_headline   \n\n     roc_auc        f1  \n0   0.602678  0.591443  \n1   0.586605  0.588328  \n2   0.576815  0.584005  \n3   0.551084  0.509179  \n4   0.602678  0.591443  \n5   0.602678  0.591443  \n6   0.602678  0.591443  \n7   0.604129  0.592139  \n8   0.604981  0.593797  \n9   0.602868  0.589660  \n10  0.584944  0.580844  \n11  0.558878  0.554536  \n12  0.538660  0.524983  \n13  0.605462  0.605409  \n14  0.607183  0.608677  \n15  0.597661  0.557834  \n16  0.603235  0.595027  \n17  0.599058  0.570024  \n18  0.596965  0.558745  ",
      "text/html": "<div>\n<style scoped>\n    .dataframe tbody tr th:only-of-type {\n        vertical-align: middle;\n    }\n\n    .dataframe tbody tr th {\n        vertical-align: top;\n    }\n\n    .dataframe thead th {\n        text-align: right;\n    }\n</style>\n<table border=\"1\" class=\"dataframe\">\n  <thead>\n    <tr style=\"text-align: right;\">\n      <th></th>\n      <th>test_corruption</th>\n      <th>train_corruption</th>\n      <th>corruption_fraction</th>\n      <th>feature</th>\n      <th>roc_auc</th>\n      <th>f1</th>\n    </tr>\n  </thead>\n  <tbody>\n    <tr>\n      <th>0</th>\n      <td>False</td>\n      <td>False</td>\n      <td>NaN</td>\n      <td>None</td>\n      <td>0.602678</td>\n      <td>0.591443</td>\n    </tr>\n    <tr>\n      <th>1</th>\n      <td>True</td>\n      <td>False</td>\n      <td>0.2</td>\n      <td>star_rating</td>\n      <td>0.586605</td>\n      <td>0.588328</td>\n    </tr>\n    <tr>\n      <th>2</th>\n      <td>True</td>\n      <td>False</td>\n      <td>0.5</td>\n      <td>star_rating</td>\n      <td>0.576815</td>\n      <td>0.584005</td>\n    </tr>\n    <tr>\n      <th>3</th>\n      <td>True</td>\n      <td>False</td>\n      <td>0.9</td>\n      <td>star_rating</td>\n      <td>0.551084</td>\n      <td>0.509179</td>\n    </tr>\n    <tr>\n      <th>4</th>\n      <td>True</td>\n      <td>False</td>\n      <td>0.2</td>\n      <td>verified_purchase</td>\n      <td>0.602678</td>\n      <td>0.591443</td>\n    </tr>\n    <tr>\n      <th>5</th>\n      <td>True</td>\n      <td>False</td>\n      <td>0.5</td>\n      <td>verified_purchase</td>\n      <td>0.602678</td>\n      <td>0.591443</td>\n    </tr>\n    <tr>\n      <th>6</th>\n      <td>True</td>\n      <td>False</td>\n      <td>0.9</td>\n      <td>verified_purchase</td>\n      <td>0.602678</td>\n      <td>0.591443</td>\n    </tr>\n    <tr>\n      <th>7</th>\n      <td>True</td>\n      <td>False</td>\n      <td>0.2</td>\n      <td>review_headline</td>\n      <td>0.604129</td>\n      <td>0.592139</td>\n    </tr>\n    <tr>\n      <th>8</th>\n      <td>True</td>\n      <td>False</td>\n      <td>0.5</td>\n      <td>review_headline</td>\n      <td>0.604981</td>\n      <td>0.593797</td>\n    </tr>\n    <tr>\n      <th>9</th>\n      <td>True</td>\n      <td>False</td>\n      <td>0.9</td>\n      <td>review_headline</td>\n      <td>0.602868</td>\n      <td>0.589660</td>\n    </tr>\n    <tr>\n      <th>10</th>\n      <td>True</td>\n      <td>True</td>\n      <td>0.2</td>\n      <td>star_rating</td>\n      <td>0.584944</td>\n      <td>0.580844</td>\n    </tr>\n    <tr>\n      <th>11</th>\n      <td>True</td>\n      <td>True</td>\n      <td>0.5</td>\n      <td>star_rating</td>\n      <td>0.558878</td>\n      <td>0.554536</td>\n    </tr>\n    <tr>\n      <th>12</th>\n      <td>True</td>\n      <td>True</td>\n      <td>0.9</td>\n      <td>star_rating</td>\n      <td>0.538660</td>\n      <td>0.524983</td>\n    </tr>\n    <tr>\n      <th>13</th>\n      <td>True</td>\n      <td>True</td>\n      <td>0.2</td>\n      <td>verified_purchase</td>\n      <td>0.605462</td>\n      <td>0.605409</td>\n    </tr>\n    <tr>\n      <th>14</th>\n      <td>True</td>\n      <td>True</td>\n      <td>0.5</td>\n      <td>verified_purchase</td>\n      <td>0.607183</td>\n      <td>0.608677</td>\n    </tr>\n    <tr>\n      <th>15</th>\n      <td>True</td>\n      <td>True</td>\n      <td>0.9</td>\n      <td>verified_purchase</td>\n      <td>0.597661</td>\n      <td>0.557834</td>\n    </tr>\n    <tr>\n      <th>16</th>\n      <td>True</td>\n      <td>True</td>\n      <td>0.2</td>\n      <td>review_headline</td>\n      <td>0.603235</td>\n      <td>0.595027</td>\n    </tr>\n    <tr>\n      <th>17</th>\n      <td>True</td>\n      <td>True</td>\n      <td>0.5</td>\n      <td>review_headline</td>\n      <td>0.599058</td>\n      <td>0.570024</td>\n    </tr>\n    <tr>\n      <th>18</th>\n      <td>True</td>\n      <td>True</td>\n      <td>0.9</td>\n      <td>review_headline</td>\n      <td>0.596965</td>\n      <td>0.558745</td>\n    </tr>\n  </tbody>\n</table>\n</div>"
     },
     "execution_count": 4,
     "metadata": {},
     "output_type": "execute_result"
    }
   ],
   "source": [
    "# Other params hard-coded currently\n",
    "# corruption_percentages=[0.2, 0.5, 0.9], corrupt_features=[\"star_rating\", \"verified_purchase\", \"review_headline\"]\n",
    "corruption_qualitative_review_corruption_opt = do_review_corruption_opt(debug=False)\n",
    "save_to_csv(corruption_qualitative_review_corruption_opt, \"corruption_qualitative_review_corruption_opt\")\n",
    "corruption_qualitative_review_corruption_opt"
   ],
   "metadata": {
    "collapsed": false,
    "pycharm": {
     "name": "#%%\n"
    }
   }
  },
  {
   "cell_type": "code",
   "execution_count": 2,
   "outputs": [
    {
     "name": "stdout",
     "output_type": "stream",
     "text": [
      "Done!\n",
      "Done!\n",
      "Done!\n",
      "Done!\n",
      "Done!\n",
      "Done!\n",
      "Done!\n",
      "Done!\n",
      "Done!\n",
      "Done!\n",
      "Done!\n",
      "Done!\n",
      "Done!\n",
      "Done!\n",
      "Done!\n",
      "Done!\n",
      "Done!\n",
      "Done!\n",
      "Done!\n",
      "Done!\n",
      "Done!\n",
      "Done!\n",
      "Done!\n",
      "Done!\n",
      "Done!\n",
      "Done!\n",
      "Done!\n",
      "Done!\n",
      "Done!\n",
      "Done!\n"
     ]
    },
    {
     "data": {
      "text/plain": "     runtimes\n0   16.394759\n1   12.322357\n2   12.319130\n3   12.132928\n4   12.127887\n5   12.612986\n6   12.659735\n7   12.173556\n8   11.996349\n9   12.041770\n10  11.967902\n11  12.453288\n12  12.208182\n13  12.047465\n14  12.059586\n15  12.214868\n16  12.045820\n17  12.366897\n18  11.871463\n19  12.232173\n20  12.196489\n21  11.853076\n22  12.157053\n23  12.112777\n24  12.073564\n25  12.352801\n26  12.186633\n27  12.654836\n28  12.076675\n29  12.581413",
      "text/html": "<div>\n<style scoped>\n    .dataframe tbody tr th:only-of-type {\n        vertical-align: middle;\n    }\n\n    .dataframe tbody tr th {\n        vertical-align: top;\n    }\n\n    .dataframe thead th {\n        text-align: right;\n    }\n</style>\n<table border=\"1\" class=\"dataframe\">\n  <thead>\n    <tr style=\"text-align: right;\">\n      <th></th>\n      <th>runtimes</th>\n    </tr>\n  </thead>\n  <tbody>\n    <tr>\n      <th>0</th>\n      <td>16.394759</td>\n    </tr>\n    <tr>\n      <th>1</th>\n      <td>12.322357</td>\n    </tr>\n    <tr>\n      <th>2</th>\n      <td>12.319130</td>\n    </tr>\n    <tr>\n      <th>3</th>\n      <td>12.132928</td>\n    </tr>\n    <tr>\n      <th>4</th>\n      <td>12.127887</td>\n    </tr>\n    <tr>\n      <th>5</th>\n      <td>12.612986</td>\n    </tr>\n    <tr>\n      <th>6</th>\n      <td>12.659735</td>\n    </tr>\n    <tr>\n      <th>7</th>\n      <td>12.173556</td>\n    </tr>\n    <tr>\n      <th>8</th>\n      <td>11.996349</td>\n    </tr>\n    <tr>\n      <th>9</th>\n      <td>12.041770</td>\n    </tr>\n    <tr>\n      <th>10</th>\n      <td>11.967902</td>\n    </tr>\n    <tr>\n      <th>11</th>\n      <td>12.453288</td>\n    </tr>\n    <tr>\n      <th>12</th>\n      <td>12.208182</td>\n    </tr>\n    <tr>\n      <th>13</th>\n      <td>12.047465</td>\n    </tr>\n    <tr>\n      <th>14</th>\n      <td>12.059586</td>\n    </tr>\n    <tr>\n      <th>15</th>\n      <td>12.214868</td>\n    </tr>\n    <tr>\n      <th>16</th>\n      <td>12.045820</td>\n    </tr>\n    <tr>\n      <th>17</th>\n      <td>12.366897</td>\n    </tr>\n    <tr>\n      <th>18</th>\n      <td>11.871463</td>\n    </tr>\n    <tr>\n      <th>19</th>\n      <td>12.232173</td>\n    </tr>\n    <tr>\n      <th>20</th>\n      <td>12.196489</td>\n    </tr>\n    <tr>\n      <th>21</th>\n      <td>11.853076</td>\n    </tr>\n    <tr>\n      <th>22</th>\n      <td>12.157053</td>\n    </tr>\n    <tr>\n      <th>23</th>\n      <td>12.112777</td>\n    </tr>\n    <tr>\n      <th>24</th>\n      <td>12.073564</td>\n    </tr>\n    <tr>\n      <th>25</th>\n      <td>12.352801</td>\n    </tr>\n    <tr>\n      <th>26</th>\n      <td>12.186633</td>\n    </tr>\n    <tr>\n      <th>27</th>\n      <td>12.654836</td>\n    </tr>\n    <tr>\n      <th>28</th>\n      <td>12.076675</td>\n    </tr>\n    <tr>\n      <th>29</th>\n      <td>12.581413</td>\n    </tr>\n  </tbody>\n</table>\n</div>"
     },
     "execution_count": 2,
     "metadata": {},
     "output_type": "execute_result"
    }
   ],
   "source": [
    "# Other params hard-coded currently\n",
    "# corruption_percentages=[0.2, 0.5, 0.9], corrupt_features=[\"star_rating\", \"verified_purchase\", \"review_headline\"]\n",
    "review_corruption_opt_exec_times = measure_review_corruption_opt_exec_time(debug=False, repeats=30)  # 30\n",
    "save_to_csv(review_corruption_opt_exec_times, \"review_corruption_opt_exec_times\")\n",
    "review_corruption_opt_exec_times"
   ],
   "metadata": {
    "collapsed": false,
    "pycharm": {
     "name": "#%%\n"
    }
   }
  },
  {
   "cell_type": "code",
   "execution_count": 3,
   "outputs": [
    {
     "data": {
      "text/plain": "    test_corruption  train_corruption  corruption_fraction    feature  \\\n0             False             False                  NaN       None   \n1             False              True                  0.2        age   \n2              True              True                  0.2        age   \n3             False              True                  0.5        age   \n4              True              True                  0.5        age   \n5             False              True                  0.9        age   \n6              True              True                  0.9        age   \n7             False              True                  0.2  workclass   \n8              True              True                  0.2  workclass   \n9             False              True                  0.5  workclass   \n10             True              True                  0.5  workclass   \n11            False              True                  0.9  workclass   \n12             True              True                  0.9  workclass   \n13            False              True                  0.2  education   \n14             True              True                  0.2  education   \n15            False              True                  0.5  education   \n16             True              True                  0.5  education   \n17            False              True                  0.9  education   \n18             True              True                  0.9  education   \n\n    accuracy  non_protected_fnr  protected_fnr  \n0   0.819714           0.319031       0.409326  \n1   0.699656           0.591461       0.743902  \n2   0.812178           0.330194       0.428571  \n3   0.549782           0.685016       0.819266  \n4   0.812045           0.322314       0.398810  \n5   0.387479           0.720364       0.831114  \n6   0.815814           0.233224       0.333333  \n7   0.819979           0.344178       0.435780  \n8   0.819582           0.308839       0.405882  \n9   0.817334           0.356635       0.432900  \n10  0.820309           0.293615       0.389222  \n11  0.814359           0.321628       0.417112  \n12  0.816409           0.321693       0.427835  \n13  0.814492           0.335181       0.451777  \n14  0.812905           0.353024       0.444444  \n15  0.804509           0.265326       0.309524  \n16  0.813500           0.326923       0.418605  \n17  0.807880           0.308067       0.422222  \n18  0.805633           0.388305       0.481818  ",
      "text/html": "<div>\n<style scoped>\n    .dataframe tbody tr th:only-of-type {\n        vertical-align: middle;\n    }\n\n    .dataframe tbody tr th {\n        vertical-align: top;\n    }\n\n    .dataframe thead th {\n        text-align: right;\n    }\n</style>\n<table border=\"1\" class=\"dataframe\">\n  <thead>\n    <tr style=\"text-align: right;\">\n      <th></th>\n      <th>test_corruption</th>\n      <th>train_corruption</th>\n      <th>corruption_fraction</th>\n      <th>feature</th>\n      <th>accuracy</th>\n      <th>non_protected_fnr</th>\n      <th>protected_fnr</th>\n    </tr>\n  </thead>\n  <tbody>\n    <tr>\n      <th>0</th>\n      <td>False</td>\n      <td>False</td>\n      <td>NaN</td>\n      <td>None</td>\n      <td>0.819714</td>\n      <td>0.319031</td>\n      <td>0.409326</td>\n    </tr>\n    <tr>\n      <th>1</th>\n      <td>False</td>\n      <td>True</td>\n      <td>0.2</td>\n      <td>age</td>\n      <td>0.699656</td>\n      <td>0.591461</td>\n      <td>0.743902</td>\n    </tr>\n    <tr>\n      <th>2</th>\n      <td>True</td>\n      <td>True</td>\n      <td>0.2</td>\n      <td>age</td>\n      <td>0.812178</td>\n      <td>0.330194</td>\n      <td>0.428571</td>\n    </tr>\n    <tr>\n      <th>3</th>\n      <td>False</td>\n      <td>True</td>\n      <td>0.5</td>\n      <td>age</td>\n      <td>0.549782</td>\n      <td>0.685016</td>\n      <td>0.819266</td>\n    </tr>\n    <tr>\n      <th>4</th>\n      <td>True</td>\n      <td>True</td>\n      <td>0.5</td>\n      <td>age</td>\n      <td>0.812045</td>\n      <td>0.322314</td>\n      <td>0.398810</td>\n    </tr>\n    <tr>\n      <th>5</th>\n      <td>False</td>\n      <td>True</td>\n      <td>0.9</td>\n      <td>age</td>\n      <td>0.387479</td>\n      <td>0.720364</td>\n      <td>0.831114</td>\n    </tr>\n    <tr>\n      <th>6</th>\n      <td>True</td>\n      <td>True</td>\n      <td>0.9</td>\n      <td>age</td>\n      <td>0.815814</td>\n      <td>0.233224</td>\n      <td>0.333333</td>\n    </tr>\n    <tr>\n      <th>7</th>\n      <td>False</td>\n      <td>True</td>\n      <td>0.2</td>\n      <td>workclass</td>\n      <td>0.819979</td>\n      <td>0.344178</td>\n      <td>0.435780</td>\n    </tr>\n    <tr>\n      <th>8</th>\n      <td>True</td>\n      <td>True</td>\n      <td>0.2</td>\n      <td>workclass</td>\n      <td>0.819582</td>\n      <td>0.308839</td>\n      <td>0.405882</td>\n    </tr>\n    <tr>\n      <th>9</th>\n      <td>False</td>\n      <td>True</td>\n      <td>0.5</td>\n      <td>workclass</td>\n      <td>0.817334</td>\n      <td>0.356635</td>\n      <td>0.432900</td>\n    </tr>\n    <tr>\n      <th>10</th>\n      <td>True</td>\n      <td>True</td>\n      <td>0.5</td>\n      <td>workclass</td>\n      <td>0.820309</td>\n      <td>0.293615</td>\n      <td>0.389222</td>\n    </tr>\n    <tr>\n      <th>11</th>\n      <td>False</td>\n      <td>True</td>\n      <td>0.9</td>\n      <td>workclass</td>\n      <td>0.814359</td>\n      <td>0.321628</td>\n      <td>0.417112</td>\n    </tr>\n    <tr>\n      <th>12</th>\n      <td>True</td>\n      <td>True</td>\n      <td>0.9</td>\n      <td>workclass</td>\n      <td>0.816409</td>\n      <td>0.321693</td>\n      <td>0.427835</td>\n    </tr>\n    <tr>\n      <th>13</th>\n      <td>False</td>\n      <td>True</td>\n      <td>0.2</td>\n      <td>education</td>\n      <td>0.814492</td>\n      <td>0.335181</td>\n      <td>0.451777</td>\n    </tr>\n    <tr>\n      <th>14</th>\n      <td>True</td>\n      <td>True</td>\n      <td>0.2</td>\n      <td>education</td>\n      <td>0.812905</td>\n      <td>0.353024</td>\n      <td>0.444444</td>\n    </tr>\n    <tr>\n      <th>15</th>\n      <td>False</td>\n      <td>True</td>\n      <td>0.5</td>\n      <td>education</td>\n      <td>0.804509</td>\n      <td>0.265326</td>\n      <td>0.309524</td>\n    </tr>\n    <tr>\n      <th>16</th>\n      <td>True</td>\n      <td>True</td>\n      <td>0.5</td>\n      <td>education</td>\n      <td>0.813500</td>\n      <td>0.326923</td>\n      <td>0.418605</td>\n    </tr>\n    <tr>\n      <th>17</th>\n      <td>False</td>\n      <td>True</td>\n      <td>0.9</td>\n      <td>education</td>\n      <td>0.807880</td>\n      <td>0.308067</td>\n      <td>0.422222</td>\n    </tr>\n    <tr>\n      <th>18</th>\n      <td>True</td>\n      <td>True</td>\n      <td>0.9</td>\n      <td>education</td>\n      <td>0.805633</td>\n      <td>0.388305</td>\n      <td>0.481818</td>\n    </tr>\n  </tbody>\n</table>\n</div>"
     },
     "execution_count": 3,
     "metadata": {},
     "output_type": "execute_result"
    }
   ],
   "source": [
    "corruption_qualitative_credit_corruption_naive = do_credit_corruption_naive(debug=False,\n",
    "                                                                          corruption_percentages=[0.2, 0.5, 0.9],\n",
    "                                                                          corrupt_features=[\"age\", \"workclass\", \"education\"])\n",
    "save_to_csv(corruption_qualitative_credit_corruption_naive, \"corruption_qualitative_credit_corruption_naive\")\n",
    "corruption_qualitative_credit_corruption_naive"
   ],
   "metadata": {
    "collapsed": false,
    "pycharm": {
     "name": "#%%\n"
    }
   }
  },
  {
   "cell_type": "code",
   "execution_count": 4,
   "outputs": [
    {
     "name": "stdout",
     "output_type": "stream",
     "text": [
      "Done!\n",
      "Done!\n",
      "Done!\n",
      "Done!\n",
      "Done!\n",
      "Done!\n",
      "Done!\n",
      "Done!\n",
      "Done!\n",
      "Done!\n",
      "Done!\n",
      "Done!\n",
      "Done!\n",
      "Done!\n",
      "Done!\n",
      "Done!\n",
      "Done!\n",
      "Done!\n",
      "Done!\n",
      "Done!\n",
      "Done!\n",
      "Done!\n",
      "Done!\n",
      "Done!\n",
      "Done!\n",
      "Done!\n",
      "Done!\n",
      "Done!\n",
      "Done!\n",
      "Done!\n"
     ]
    },
    {
     "data": {
      "text/plain": "     runtimes\n0   18.230211\n1   17.330303\n2   17.161072\n3   17.288931\n4   17.353135\n5   17.372030\n6   17.407266\n7   17.602283\n8   17.220136\n9   17.452488\n10  17.405909\n11  17.254174\n12  17.256136\n13  17.753028\n14  17.170592\n15  17.222116\n16  17.416110\n17  17.282800\n18  17.345332\n19  17.255262\n20  17.218784\n21  18.592653\n22  17.349513\n23  17.326500\n24  17.373006\n25  17.386585\n26  17.446683\n27  17.258105\n28  17.261693\n29  17.333187",
      "text/html": "<div>\n<style scoped>\n    .dataframe tbody tr th:only-of-type {\n        vertical-align: middle;\n    }\n\n    .dataframe tbody tr th {\n        vertical-align: top;\n    }\n\n    .dataframe thead th {\n        text-align: right;\n    }\n</style>\n<table border=\"1\" class=\"dataframe\">\n  <thead>\n    <tr style=\"text-align: right;\">\n      <th></th>\n      <th>runtimes</th>\n    </tr>\n  </thead>\n  <tbody>\n    <tr>\n      <th>0</th>\n      <td>18.230211</td>\n    </tr>\n    <tr>\n      <th>1</th>\n      <td>17.330303</td>\n    </tr>\n    <tr>\n      <th>2</th>\n      <td>17.161072</td>\n    </tr>\n    <tr>\n      <th>3</th>\n      <td>17.288931</td>\n    </tr>\n    <tr>\n      <th>4</th>\n      <td>17.353135</td>\n    </tr>\n    <tr>\n      <th>5</th>\n      <td>17.372030</td>\n    </tr>\n    <tr>\n      <th>6</th>\n      <td>17.407266</td>\n    </tr>\n    <tr>\n      <th>7</th>\n      <td>17.602283</td>\n    </tr>\n    <tr>\n      <th>8</th>\n      <td>17.220136</td>\n    </tr>\n    <tr>\n      <th>9</th>\n      <td>17.452488</td>\n    </tr>\n    <tr>\n      <th>10</th>\n      <td>17.405909</td>\n    </tr>\n    <tr>\n      <th>11</th>\n      <td>17.254174</td>\n    </tr>\n    <tr>\n      <th>12</th>\n      <td>17.256136</td>\n    </tr>\n    <tr>\n      <th>13</th>\n      <td>17.753028</td>\n    </tr>\n    <tr>\n      <th>14</th>\n      <td>17.170592</td>\n    </tr>\n    <tr>\n      <th>15</th>\n      <td>17.222116</td>\n    </tr>\n    <tr>\n      <th>16</th>\n      <td>17.416110</td>\n    </tr>\n    <tr>\n      <th>17</th>\n      <td>17.282800</td>\n    </tr>\n    <tr>\n      <th>18</th>\n      <td>17.345332</td>\n    </tr>\n    <tr>\n      <th>19</th>\n      <td>17.255262</td>\n    </tr>\n    <tr>\n      <th>20</th>\n      <td>17.218784</td>\n    </tr>\n    <tr>\n      <th>21</th>\n      <td>18.592653</td>\n    </tr>\n    <tr>\n      <th>22</th>\n      <td>17.349513</td>\n    </tr>\n    <tr>\n      <th>23</th>\n      <td>17.326500</td>\n    </tr>\n    <tr>\n      <th>24</th>\n      <td>17.373006</td>\n    </tr>\n    <tr>\n      <th>25</th>\n      <td>17.386585</td>\n    </tr>\n    <tr>\n      <th>26</th>\n      <td>17.446683</td>\n    </tr>\n    <tr>\n      <th>27</th>\n      <td>17.258105</td>\n    </tr>\n    <tr>\n      <th>28</th>\n      <td>17.261693</td>\n    </tr>\n    <tr>\n      <th>29</th>\n      <td>17.333187</td>\n    </tr>\n  </tbody>\n</table>\n</div>"
     },
     "execution_count": 4,
     "metadata": {},
     "output_type": "execute_result"
    }
   ],
   "source": [
    "credit_corruption_naive_exec_times = measure_credit_corruption_naive_exec_time(debug=False,\n",
    "                                                                               corruption_percentages=[0.2, 0.5, 0.9],\n",
    "                                                                               corrupt_features=[\"age\", \"workclass\", \"education\"],\n",
    "                                                                               repeats=30)\n",
    "save_to_csv(credit_corruption_naive_exec_times, \"credit_corruption_naive_exec_times\")\n",
    "credit_corruption_naive_exec_times"
   ],
   "metadata": {
    "collapsed": false,
    "pycharm": {
     "name": "#%%\n"
    }
   }
  },
  {
   "cell_type": "code",
   "execution_count": 5,
   "outputs": [
    {
     "data": {
      "text/plain": "    test_corruption  train_corruption  corruption_fraction    feature  \\\n0             False             False                  NaN       None   \n1              True             False                  0.2        age   \n2              True             False                  0.5        age   \n3              True             False                  0.9        age   \n4              True             False                  0.2  workclass   \n5              True             False                  0.5  workclass   \n6              True             False                  0.9  workclass   \n7              True             False                  0.2  education   \n8              True             False                  0.5  education   \n9              True             False                  0.9  education   \n10             True              True                  0.2        age   \n11             True              True                  0.5        age   \n12             True              True                  0.9        age   \n13             True              True                  0.2  workclass   \n14             True              True                  0.5  workclass   \n15             True              True                  0.9  workclass   \n16             True              True                  0.2  education   \n17             True              True                  0.5  education   \n18             True              True                  0.9  education   \n\n    accuracy  non_protected_fnr  protected_fnr  \n0   0.819847           0.308753       0.404624  \n1   0.712878           0.580572       0.719368  \n2   0.554476           0.683590       0.811047  \n3   0.339482           0.735506       0.843093  \n4   0.818723           0.308360       0.408284  \n5   0.817929           0.308375       0.393750  \n6   0.815682           0.306338       0.398693  \n7   0.816541           0.305214       0.375796  \n8   0.810922           0.293746       0.387324  \n9   0.805699           0.262465       0.330097  \n10  0.818260           0.302632       0.378049  \n11  0.813103           0.361579       0.434579  \n12  0.815814           0.248249       0.323077  \n13  0.821103           0.289789       0.390244  \n14  0.817929           0.310855       0.397661  \n15  0.811252           0.271318       0.345455  \n16  0.815417           0.349192       0.415842  \n17  0.805170           0.367910       0.459459  \n18  0.806823           0.329545       0.442177  ",
      "text/html": "<div>\n<style scoped>\n    .dataframe tbody tr th:only-of-type {\n        vertical-align: middle;\n    }\n\n    .dataframe tbody tr th {\n        vertical-align: top;\n    }\n\n    .dataframe thead th {\n        text-align: right;\n    }\n</style>\n<table border=\"1\" class=\"dataframe\">\n  <thead>\n    <tr style=\"text-align: right;\">\n      <th></th>\n      <th>test_corruption</th>\n      <th>train_corruption</th>\n      <th>corruption_fraction</th>\n      <th>feature</th>\n      <th>accuracy</th>\n      <th>non_protected_fnr</th>\n      <th>protected_fnr</th>\n    </tr>\n  </thead>\n  <tbody>\n    <tr>\n      <th>0</th>\n      <td>False</td>\n      <td>False</td>\n      <td>NaN</td>\n      <td>None</td>\n      <td>0.819847</td>\n      <td>0.308753</td>\n      <td>0.404624</td>\n    </tr>\n    <tr>\n      <th>1</th>\n      <td>True</td>\n      <td>False</td>\n      <td>0.2</td>\n      <td>age</td>\n      <td>0.712878</td>\n      <td>0.580572</td>\n      <td>0.719368</td>\n    </tr>\n    <tr>\n      <th>2</th>\n      <td>True</td>\n      <td>False</td>\n      <td>0.5</td>\n      <td>age</td>\n      <td>0.554476</td>\n      <td>0.683590</td>\n      <td>0.811047</td>\n    </tr>\n    <tr>\n      <th>3</th>\n      <td>True</td>\n      <td>False</td>\n      <td>0.9</td>\n      <td>age</td>\n      <td>0.339482</td>\n      <td>0.735506</td>\n      <td>0.843093</td>\n    </tr>\n    <tr>\n      <th>4</th>\n      <td>True</td>\n      <td>False</td>\n      <td>0.2</td>\n      <td>workclass</td>\n      <td>0.818723</td>\n      <td>0.308360</td>\n      <td>0.408284</td>\n    </tr>\n    <tr>\n      <th>5</th>\n      <td>True</td>\n      <td>False</td>\n      <td>0.5</td>\n      <td>workclass</td>\n      <td>0.817929</td>\n      <td>0.308375</td>\n      <td>0.393750</td>\n    </tr>\n    <tr>\n      <th>6</th>\n      <td>True</td>\n      <td>False</td>\n      <td>0.9</td>\n      <td>workclass</td>\n      <td>0.815682</td>\n      <td>0.306338</td>\n      <td>0.398693</td>\n    </tr>\n    <tr>\n      <th>7</th>\n      <td>True</td>\n      <td>False</td>\n      <td>0.2</td>\n      <td>education</td>\n      <td>0.816541</td>\n      <td>0.305214</td>\n      <td>0.375796</td>\n    </tr>\n    <tr>\n      <th>8</th>\n      <td>True</td>\n      <td>False</td>\n      <td>0.5</td>\n      <td>education</td>\n      <td>0.810922</td>\n      <td>0.293746</td>\n      <td>0.387324</td>\n    </tr>\n    <tr>\n      <th>9</th>\n      <td>True</td>\n      <td>False</td>\n      <td>0.9</td>\n      <td>education</td>\n      <td>0.805699</td>\n      <td>0.262465</td>\n      <td>0.330097</td>\n    </tr>\n    <tr>\n      <th>10</th>\n      <td>True</td>\n      <td>True</td>\n      <td>0.2</td>\n      <td>age</td>\n      <td>0.818260</td>\n      <td>0.302632</td>\n      <td>0.378049</td>\n    </tr>\n    <tr>\n      <th>11</th>\n      <td>True</td>\n      <td>True</td>\n      <td>0.5</td>\n      <td>age</td>\n      <td>0.813103</td>\n      <td>0.361579</td>\n      <td>0.434579</td>\n    </tr>\n    <tr>\n      <th>12</th>\n      <td>True</td>\n      <td>True</td>\n      <td>0.9</td>\n      <td>age</td>\n      <td>0.815814</td>\n      <td>0.248249</td>\n      <td>0.323077</td>\n    </tr>\n    <tr>\n      <th>13</th>\n      <td>True</td>\n      <td>True</td>\n      <td>0.2</td>\n      <td>workclass</td>\n      <td>0.821103</td>\n      <td>0.289789</td>\n      <td>0.390244</td>\n    </tr>\n    <tr>\n      <th>14</th>\n      <td>True</td>\n      <td>True</td>\n      <td>0.5</td>\n      <td>workclass</td>\n      <td>0.817929</td>\n      <td>0.310855</td>\n      <td>0.397661</td>\n    </tr>\n    <tr>\n      <th>15</th>\n      <td>True</td>\n      <td>True</td>\n      <td>0.9</td>\n      <td>workclass</td>\n      <td>0.811252</td>\n      <td>0.271318</td>\n      <td>0.345455</td>\n    </tr>\n    <tr>\n      <th>16</th>\n      <td>True</td>\n      <td>True</td>\n      <td>0.2</td>\n      <td>education</td>\n      <td>0.815417</td>\n      <td>0.349192</td>\n      <td>0.415842</td>\n    </tr>\n    <tr>\n      <th>17</th>\n      <td>True</td>\n      <td>True</td>\n      <td>0.5</td>\n      <td>education</td>\n      <td>0.805170</td>\n      <td>0.367910</td>\n      <td>0.459459</td>\n    </tr>\n    <tr>\n      <th>18</th>\n      <td>True</td>\n      <td>True</td>\n      <td>0.9</td>\n      <td>education</td>\n      <td>0.806823</td>\n      <td>0.329545</td>\n      <td>0.442177</td>\n    </tr>\n  </tbody>\n</table>\n</div>"
     },
     "execution_count": 5,
     "metadata": {},
     "output_type": "execute_result"
    }
   ],
   "source": [
    "# Other params hard-coded currently\n",
    "# corruption_percentages=[0.2, 0.5, 0.9], corrupt_features=[\"age\", \"workclass\", \"education\"]\n",
    "corruption_qualitative_credit_corruption_opt = do_credit_corruption_opt(debug=False)\n",
    "save_to_csv(corruption_qualitative_credit_corruption_opt, \"corruption_qualitative_credit_corruption_opt\")\n",
    "corruption_qualitative_credit_corruption_opt"
   ],
   "metadata": {
    "collapsed": false,
    "pycharm": {
     "name": "#%%\n"
    }
   }
  },
  {
   "cell_type": "code",
   "execution_count": 6,
   "outputs": [
    {
     "name": "stdout",
     "output_type": "stream",
     "text": [
      "Done!\n",
      "Done!\n",
      "Done!\n",
      "Done!\n",
      "Done!\n",
      "Done!\n",
      "Done!\n",
      "Done!\n",
      "Done!\n",
      "Done!\n",
      "Done!\n",
      "Done!\n",
      "Done!\n",
      "Done!\n",
      "Done!\n",
      "Done!\n",
      "Done!\n",
      "Done!\n",
      "Done!\n",
      "Done!\n",
      "Done!\n",
      "Done!\n",
      "Done!\n",
      "Done!\n",
      "Done!\n",
      "Done!\n",
      "Done!\n",
      "Done!\n",
      "Done!\n",
      "Done!\n"
     ]
    },
    {
     "data": {
      "text/plain": "    runtimes\n0   2.557463\n1   2.622522\n2   2.556416\n3   2.601470\n4   2.579130\n5   2.645280\n6   2.569172\n7   2.552246\n8   2.554956\n9   2.669103\n10  2.602117\n11  2.576057\n12  2.497820\n13  2.614823\n14  2.548035\n15  2.661188\n16  2.656745\n17  2.732543\n18  2.698642\n19  2.655854\n20  2.504698\n21  2.662375\n22  2.598698\n23  2.564513\n24  2.571215\n25  2.642897\n26  2.583714\n27  3.008889\n28  3.727998\n29  4.064366",
      "text/html": "<div>\n<style scoped>\n    .dataframe tbody tr th:only-of-type {\n        vertical-align: middle;\n    }\n\n    .dataframe tbody tr th {\n        vertical-align: top;\n    }\n\n    .dataframe thead th {\n        text-align: right;\n    }\n</style>\n<table border=\"1\" class=\"dataframe\">\n  <thead>\n    <tr style=\"text-align: right;\">\n      <th></th>\n      <th>runtimes</th>\n    </tr>\n  </thead>\n  <tbody>\n    <tr>\n      <th>0</th>\n      <td>2.557463</td>\n    </tr>\n    <tr>\n      <th>1</th>\n      <td>2.622522</td>\n    </tr>\n    <tr>\n      <th>2</th>\n      <td>2.556416</td>\n    </tr>\n    <tr>\n      <th>3</th>\n      <td>2.601470</td>\n    </tr>\n    <tr>\n      <th>4</th>\n      <td>2.579130</td>\n    </tr>\n    <tr>\n      <th>5</th>\n      <td>2.645280</td>\n    </tr>\n    <tr>\n      <th>6</th>\n      <td>2.569172</td>\n    </tr>\n    <tr>\n      <th>7</th>\n      <td>2.552246</td>\n    </tr>\n    <tr>\n      <th>8</th>\n      <td>2.554956</td>\n    </tr>\n    <tr>\n      <th>9</th>\n      <td>2.669103</td>\n    </tr>\n    <tr>\n      <th>10</th>\n      <td>2.602117</td>\n    </tr>\n    <tr>\n      <th>11</th>\n      <td>2.576057</td>\n    </tr>\n    <tr>\n      <th>12</th>\n      <td>2.497820</td>\n    </tr>\n    <tr>\n      <th>13</th>\n      <td>2.614823</td>\n    </tr>\n    <tr>\n      <th>14</th>\n      <td>2.548035</td>\n    </tr>\n    <tr>\n      <th>15</th>\n      <td>2.661188</td>\n    </tr>\n    <tr>\n      <th>16</th>\n      <td>2.656745</td>\n    </tr>\n    <tr>\n      <th>17</th>\n      <td>2.732543</td>\n    </tr>\n    <tr>\n      <th>18</th>\n      <td>2.698642</td>\n    </tr>\n    <tr>\n      <th>19</th>\n      <td>2.655854</td>\n    </tr>\n    <tr>\n      <th>20</th>\n      <td>2.504698</td>\n    </tr>\n    <tr>\n      <th>21</th>\n      <td>2.662375</td>\n    </tr>\n    <tr>\n      <th>22</th>\n      <td>2.598698</td>\n    </tr>\n    <tr>\n      <th>23</th>\n      <td>2.564513</td>\n    </tr>\n    <tr>\n      <th>24</th>\n      <td>2.571215</td>\n    </tr>\n    <tr>\n      <th>25</th>\n      <td>2.642897</td>\n    </tr>\n    <tr>\n      <th>26</th>\n      <td>2.583714</td>\n    </tr>\n    <tr>\n      <th>27</th>\n      <td>3.008889</td>\n    </tr>\n    <tr>\n      <th>28</th>\n      <td>3.727998</td>\n    </tr>\n    <tr>\n      <th>29</th>\n      <td>4.064366</td>\n    </tr>\n  </tbody>\n</table>\n</div>"
     },
     "execution_count": 6,
     "metadata": {},
     "output_type": "execute_result"
    }
   ],
   "source": [
    "# Other params hard-coded currently\n",
    "# corruption_percentages=[0.2, 0.5, 0.9], corrupt_features=[\"age\", \"workclass\", \"education\"]review_corruption_opt_exec_times = measure_review_corruption_opt_exec_time(debug=True, repeats=30)\n",
    "credit_corruption_opt_exec_times = measure_credit_corruption_opt_exec_time(debug=False, repeats=30)\n",
    "save_to_csv(credit_corruption_opt_exec_times, \"credit_corruption_opt_exec_times\")\n",
    "credit_corruption_opt_exec_times"
   ],
   "metadata": {
    "collapsed": false,
    "pycharm": {
     "name": "#%%\n"
    }
   }
  }
 ],
 "metadata": {
  "kernelspec": {
   "display_name": "Python 3 (ipykernel)",
   "language": "python",
   "name": "python3"
  },
  "language_info": {
   "codemirror_mode": {
    "name": "ipython",
    "version": 3
   },
   "file_extension": ".py",
   "mimetype": "text/x-python",
   "name": "python",
   "nbconvert_exporter": "python",
   "pygments_lexer": "ipython3",
   "version": "3.9.5"
  }
 },
 "nbformat": 4,
 "nbformat_minor": 4
}