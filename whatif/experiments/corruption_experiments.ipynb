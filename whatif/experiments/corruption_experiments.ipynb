{
 "cells": [
  {
   "cell_type": "code",
   "execution_count": 1,
   "metadata": {},
   "outputs": [],
   "source": [
    "from whatif.experiments.credit_data_corruptions_naive import do_credit_corruption_naive, \\\n",
    "    measure_credit_corruption_naive_exec_time\n",
    "from whatif.experiments.credit_data_corruptions_opt import do_credit_corruption_opt, \\\n",
    "    measure_credit_corruption_opt_exec_time\n",
    "from whatif.experiments.helpful_reviews_data_corruptions_naive import do_review_corruption_naive, \\\n",
    "    measure_review_corruption_naive_exec_time\n",
    "from whatif.experiments.helpful_reviews_data_corruptions_opt import do_review_corruption_opt, \\\n",
    "    measure_review_corruption_opt_exec_time\n",
    "from whatif.utils.utils import get_project_root\n",
    "\n",
    "def save_to_csv(df, filename):\n",
    "    df.to_csv(f'{str(get_project_root())}/whatif/experiments/datasets/sneakers/{filename}.csv',\n",
    "              index=False)"
   ]
  },
  {
   "cell_type": "code",
   "execution_count": 2,
   "outputs": [
    {
     "data": {
      "text/plain": "    test_corruption  train_corruption  corruption_fraction            feature  \\\n0             False             False                  NaN               None   \n1             False              True                  0.2        star_rating   \n2              True              True                  0.2        star_rating   \n3             False              True                  0.5        star_rating   \n4              True              True                  0.5        star_rating   \n5             False              True                  0.9        star_rating   \n6              True              True                  0.9        star_rating   \n7             False              True                  0.2  verified_purchase   \n8              True              True                  0.2  verified_purchase   \n9             False              True                  0.5  verified_purchase   \n10             True              True                  0.5  verified_purchase   \n11            False              True                  0.9  verified_purchase   \n12             True              True                  0.9  verified_purchase   \n13            False              True                  0.2    review_headline   \n14             True              True                  0.2    review_headline   \n15            False              True                  0.5    review_headline   \n16             True              True                  0.5    review_headline   \n17            False              True                  0.9    review_headline   \n18             True              True                  0.9    review_headline   \n\n     roc_auc        f1  \n0   0.601900  0.595836  \n1   0.592103  0.592516  \n2   0.593287  0.535685  \n3   0.584115  0.591470  \n4   0.569499  0.571836  \n5   0.567841  0.517675  \n6   0.588615  0.551218  \n7   0.603107  0.592270  \n8   0.602677  0.589833  \n9   0.602724  0.581546  \n10  0.599308  0.569086  \n11  0.605348  0.593446  \n12  0.606051  0.590328  \n13  0.605845  0.597984  \n14  0.605210  0.597759  \n15  0.598977  0.583606  \n16  0.598541  0.577877  \n17  0.598879  0.595570  \n18  0.607696  0.613544  ",
      "text/html": "<div>\n<style scoped>\n    .dataframe tbody tr th:only-of-type {\n        vertical-align: middle;\n    }\n\n    .dataframe tbody tr th {\n        vertical-align: top;\n    }\n\n    .dataframe thead th {\n        text-align: right;\n    }\n</style>\n<table border=\"1\" class=\"dataframe\">\n  <thead>\n    <tr style=\"text-align: right;\">\n      <th></th>\n      <th>test_corruption</th>\n      <th>train_corruption</th>\n      <th>corruption_fraction</th>\n      <th>feature</th>\n      <th>roc_auc</th>\n      <th>f1</th>\n    </tr>\n  </thead>\n  <tbody>\n    <tr>\n      <th>0</th>\n      <td>False</td>\n      <td>False</td>\n      <td>NaN</td>\n      <td>None</td>\n      <td>0.601900</td>\n      <td>0.595836</td>\n    </tr>\n    <tr>\n      <th>1</th>\n      <td>False</td>\n      <td>True</td>\n      <td>0.2</td>\n      <td>star_rating</td>\n      <td>0.592103</td>\n      <td>0.592516</td>\n    </tr>\n    <tr>\n      <th>2</th>\n      <td>True</td>\n      <td>True</td>\n      <td>0.2</td>\n      <td>star_rating</td>\n      <td>0.593287</td>\n      <td>0.535685</td>\n    </tr>\n    <tr>\n      <th>3</th>\n      <td>False</td>\n      <td>True</td>\n      <td>0.5</td>\n      <td>star_rating</td>\n      <td>0.584115</td>\n      <td>0.591470</td>\n    </tr>\n    <tr>\n      <th>4</th>\n      <td>True</td>\n      <td>True</td>\n      <td>0.5</td>\n      <td>star_rating</td>\n      <td>0.569499</td>\n      <td>0.571836</td>\n    </tr>\n    <tr>\n      <th>5</th>\n      <td>False</td>\n      <td>True</td>\n      <td>0.9</td>\n      <td>star_rating</td>\n      <td>0.567841</td>\n      <td>0.517675</td>\n    </tr>\n    <tr>\n      <th>6</th>\n      <td>True</td>\n      <td>True</td>\n      <td>0.9</td>\n      <td>star_rating</td>\n      <td>0.588615</td>\n      <td>0.551218</td>\n    </tr>\n    <tr>\n      <th>7</th>\n      <td>False</td>\n      <td>True</td>\n      <td>0.2</td>\n      <td>verified_purchase</td>\n      <td>0.603107</td>\n      <td>0.592270</td>\n    </tr>\n    <tr>\n      <th>8</th>\n      <td>True</td>\n      <td>True</td>\n      <td>0.2</td>\n      <td>verified_purchase</td>\n      <td>0.602677</td>\n      <td>0.589833</td>\n    </tr>\n    <tr>\n      <th>9</th>\n      <td>False</td>\n      <td>True</td>\n      <td>0.5</td>\n      <td>verified_purchase</td>\n      <td>0.602724</td>\n      <td>0.581546</td>\n    </tr>\n    <tr>\n      <th>10</th>\n      <td>True</td>\n      <td>True</td>\n      <td>0.5</td>\n      <td>verified_purchase</td>\n      <td>0.599308</td>\n      <td>0.569086</td>\n    </tr>\n    <tr>\n      <th>11</th>\n      <td>False</td>\n      <td>True</td>\n      <td>0.9</td>\n      <td>verified_purchase</td>\n      <td>0.605348</td>\n      <td>0.593446</td>\n    </tr>\n    <tr>\n      <th>12</th>\n      <td>True</td>\n      <td>True</td>\n      <td>0.9</td>\n      <td>verified_purchase</td>\n      <td>0.606051</td>\n      <td>0.590328</td>\n    </tr>\n    <tr>\n      <th>13</th>\n      <td>False</td>\n      <td>True</td>\n      <td>0.2</td>\n      <td>review_headline</td>\n      <td>0.605845</td>\n      <td>0.597984</td>\n    </tr>\n    <tr>\n      <th>14</th>\n      <td>True</td>\n      <td>True</td>\n      <td>0.2</td>\n      <td>review_headline</td>\n      <td>0.605210</td>\n      <td>0.597759</td>\n    </tr>\n    <tr>\n      <th>15</th>\n      <td>False</td>\n      <td>True</td>\n      <td>0.5</td>\n      <td>review_headline</td>\n      <td>0.598977</td>\n      <td>0.583606</td>\n    </tr>\n    <tr>\n      <th>16</th>\n      <td>True</td>\n      <td>True</td>\n      <td>0.5</td>\n      <td>review_headline</td>\n      <td>0.598541</td>\n      <td>0.577877</td>\n    </tr>\n    <tr>\n      <th>17</th>\n      <td>False</td>\n      <td>True</td>\n      <td>0.9</td>\n      <td>review_headline</td>\n      <td>0.598879</td>\n      <td>0.595570</td>\n    </tr>\n    <tr>\n      <th>18</th>\n      <td>True</td>\n      <td>True</td>\n      <td>0.9</td>\n      <td>review_headline</td>\n      <td>0.607696</td>\n      <td>0.613544</td>\n    </tr>\n  </tbody>\n</table>\n</div>"
     },
     "execution_count": 2,
     "metadata": {},
     "output_type": "execute_result"
    }
   ],
   "source": [
    "corruption_qualitative_review_corruption_naive = do_review_corruption_naive(debug=False,\n",
    "                                                                          corruption_percentages=[0.2, 0.5, 0.9],\n",
    "                                                                          corrupt_features=[\"star_rating\", \"verified_purchase\", \"review_headline\"])\n",
    "save_to_csv(corruption_qualitative_review_corruption_naive, \"corruption_qualitative_review_corruption_naive\")\n",
    "corruption_qualitative_review_corruption_naive"
   ],
   "metadata": {
    "collapsed": false,
    "pycharm": {
     "name": "#%%\n"
    }
   }
  },
  {
   "cell_type": "code",
   "execution_count": 3,
   "outputs": [
    {
     "name": "stdout",
     "output_type": "stream",
     "text": [
      "Done!\n",
      "Done!\n",
      "Done!\n",
      "Done!\n",
      "Done!\n",
      "Done!\n",
      "Done!\n",
      "Done!\n",
      "Done!\n",
      "Done!\n",
      "Done!\n",
      "Done!\n",
      "Done!\n",
      "Done!\n",
      "Done!\n",
      "Done!\n",
      "Done!\n",
      "Done!\n",
      "Done!\n",
      "Done!\n",
      "Done!\n",
      "Done!\n",
      "Done!\n",
      "Done!\n",
      "Done!\n",
      "Done!\n",
      "Done!\n",
      "Done!\n",
      "Done!\n",
      "Done!\n"
     ]
    },
    {
     "data": {
      "text/plain": "     runtimes\n0   76.868191\n1   73.025943\n2   73.020122\n3   72.676763\n4   72.605270\n5   72.389871\n6   72.665069\n7   72.484092\n8   72.133285\n9   72.468354\n10  72.602636\n11  72.112036\n12  72.399783\n13  72.418259\n14  73.655586\n15  73.032610\n16  72.606631\n17  72.591323\n18  72.488645\n19  72.422779\n20  72.577077\n21  72.789030\n22  73.058751\n23  72.420273\n24  72.249086\n25  72.674936\n26  72.571691\n27  72.844578\n28  72.026914\n29  72.147342",
      "text/html": "<div>\n<style scoped>\n    .dataframe tbody tr th:only-of-type {\n        vertical-align: middle;\n    }\n\n    .dataframe tbody tr th {\n        vertical-align: top;\n    }\n\n    .dataframe thead th {\n        text-align: right;\n    }\n</style>\n<table border=\"1\" class=\"dataframe\">\n  <thead>\n    <tr style=\"text-align: right;\">\n      <th></th>\n      <th>runtimes</th>\n    </tr>\n  </thead>\n  <tbody>\n    <tr>\n      <th>0</th>\n      <td>76.868191</td>\n    </tr>\n    <tr>\n      <th>1</th>\n      <td>73.025943</td>\n    </tr>\n    <tr>\n      <th>2</th>\n      <td>73.020122</td>\n    </tr>\n    <tr>\n      <th>3</th>\n      <td>72.676763</td>\n    </tr>\n    <tr>\n      <th>4</th>\n      <td>72.605270</td>\n    </tr>\n    <tr>\n      <th>5</th>\n      <td>72.389871</td>\n    </tr>\n    <tr>\n      <th>6</th>\n      <td>72.665069</td>\n    </tr>\n    <tr>\n      <th>7</th>\n      <td>72.484092</td>\n    </tr>\n    <tr>\n      <th>8</th>\n      <td>72.133285</td>\n    </tr>\n    <tr>\n      <th>9</th>\n      <td>72.468354</td>\n    </tr>\n    <tr>\n      <th>10</th>\n      <td>72.602636</td>\n    </tr>\n    <tr>\n      <th>11</th>\n      <td>72.112036</td>\n    </tr>\n    <tr>\n      <th>12</th>\n      <td>72.399783</td>\n    </tr>\n    <tr>\n      <th>13</th>\n      <td>72.418259</td>\n    </tr>\n    <tr>\n      <th>14</th>\n      <td>73.655586</td>\n    </tr>\n    <tr>\n      <th>15</th>\n      <td>73.032610</td>\n    </tr>\n    <tr>\n      <th>16</th>\n      <td>72.606631</td>\n    </tr>\n    <tr>\n      <th>17</th>\n      <td>72.591323</td>\n    </tr>\n    <tr>\n      <th>18</th>\n      <td>72.488645</td>\n    </tr>\n    <tr>\n      <th>19</th>\n      <td>72.422779</td>\n    </tr>\n    <tr>\n      <th>20</th>\n      <td>72.577077</td>\n    </tr>\n    <tr>\n      <th>21</th>\n      <td>72.789030</td>\n    </tr>\n    <tr>\n      <th>22</th>\n      <td>73.058751</td>\n    </tr>\n    <tr>\n      <th>23</th>\n      <td>72.420273</td>\n    </tr>\n    <tr>\n      <th>24</th>\n      <td>72.249086</td>\n    </tr>\n    <tr>\n      <th>25</th>\n      <td>72.674936</td>\n    </tr>\n    <tr>\n      <th>26</th>\n      <td>72.571691</td>\n    </tr>\n    <tr>\n      <th>27</th>\n      <td>72.844578</td>\n    </tr>\n    <tr>\n      <th>28</th>\n      <td>72.026914</td>\n    </tr>\n    <tr>\n      <th>29</th>\n      <td>72.147342</td>\n    </tr>\n  </tbody>\n</table>\n</div>"
     },
     "execution_count": 3,
     "metadata": {},
     "output_type": "execute_result"
    }
   ],
   "source": [
    "review_corruption_naive_exec_times = measure_review_corruption_naive_exec_time(debug=False,\n",
    "                                                                               corruption_percentages=[0.2, 0.5, 0.9],\n",
    "                                                                               corrupt_features=[\"star_rating\", \"verified_purchase\", \"review_headline\"],\n",
    "                                                                               repeats=30)\n",
    "save_to_csv(review_corruption_naive_exec_times, \"review_corruption_naive_exec_times\")\n",
    "review_corruption_naive_exec_times"
   ],
   "metadata": {
    "collapsed": false,
    "pycharm": {
     "name": "#%%\n"
    }
   }
  },
  {
   "cell_type": "code",
   "execution_count": 4,
   "outputs": [
    {
     "data": {
      "text/plain": "    test_corruption  train_corruption  corruption_fraction            feature  \\\n0             False             False                  NaN               None   \n1              True             False                  0.2        star_rating   \n2              True             False                  0.5        star_rating   \n3              True             False                  0.9        star_rating   \n4              True             False                  0.2  verified_purchase   \n5              True             False                  0.5  verified_purchase   \n6              True             False                  0.9  verified_purchase   \n7              True             False                  0.2    review_headline   \n8              True             False                  0.5    review_headline   \n9              True             False                  0.9    review_headline   \n10             True              True                  0.2        star_rating   \n11             True              True                  0.5        star_rating   \n12             True              True                  0.9        star_rating   \n13             True              True                  0.2  verified_purchase   \n14             True              True                  0.5  verified_purchase   \n15             True              True                  0.9  verified_purchase   \n16             True              True                  0.2    review_headline   \n17             True              True                  0.5    review_headline   \n18             True              True                  0.9    review_headline   \n\n     roc_auc        f1  \n0   0.602678  0.591443  \n1   0.586605  0.588328  \n2   0.576815  0.584005  \n3   0.551084  0.509179  \n4   0.602678  0.591443  \n5   0.602678  0.591443  \n6   0.602678  0.591443  \n7   0.604129  0.592139  \n8   0.604981  0.593797  \n9   0.602868  0.589660  \n10  0.584944  0.580844  \n11  0.558878  0.554536  \n12  0.538660  0.524983  \n13  0.605462  0.605409  \n14  0.607183  0.608677  \n15  0.597661  0.557834  \n16  0.603235  0.595027  \n17  0.599058  0.570024  \n18  0.596965  0.558745  ",
      "text/html": "<div>\n<style scoped>\n    .dataframe tbody tr th:only-of-type {\n        vertical-align: middle;\n    }\n\n    .dataframe tbody tr th {\n        vertical-align: top;\n    }\n\n    .dataframe thead th {\n        text-align: right;\n    }\n</style>\n<table border=\"1\" class=\"dataframe\">\n  <thead>\n    <tr style=\"text-align: right;\">\n      <th></th>\n      <th>test_corruption</th>\n      <th>train_corruption</th>\n      <th>corruption_fraction</th>\n      <th>feature</th>\n      <th>roc_auc</th>\n      <th>f1</th>\n    </tr>\n  </thead>\n  <tbody>\n    <tr>\n      <th>0</th>\n      <td>False</td>\n      <td>False</td>\n      <td>NaN</td>\n      <td>None</td>\n      <td>0.602678</td>\n      <td>0.591443</td>\n    </tr>\n    <tr>\n      <th>1</th>\n      <td>True</td>\n      <td>False</td>\n      <td>0.2</td>\n      <td>star_rating</td>\n      <td>0.586605</td>\n      <td>0.588328</td>\n    </tr>\n    <tr>\n      <th>2</th>\n      <td>True</td>\n      <td>False</td>\n      <td>0.5</td>\n      <td>star_rating</td>\n      <td>0.576815</td>\n      <td>0.584005</td>\n    </tr>\n    <tr>\n      <th>3</th>\n      <td>True</td>\n      <td>False</td>\n      <td>0.9</td>\n      <td>star_rating</td>\n      <td>0.551084</td>\n      <td>0.509179</td>\n    </tr>\n    <tr>\n      <th>4</th>\n      <td>True</td>\n      <td>False</td>\n      <td>0.2</td>\n      <td>verified_purchase</td>\n      <td>0.602678</td>\n      <td>0.591443</td>\n    </tr>\n    <tr>\n      <th>5</th>\n      <td>True</td>\n      <td>False</td>\n      <td>0.5</td>\n      <td>verified_purchase</td>\n      <td>0.602678</td>\n      <td>0.591443</td>\n    </tr>\n    <tr>\n      <th>6</th>\n      <td>True</td>\n      <td>False</td>\n      <td>0.9</td>\n      <td>verified_purchase</td>\n      <td>0.602678</td>\n      <td>0.591443</td>\n    </tr>\n    <tr>\n      <th>7</th>\n      <td>True</td>\n      <td>False</td>\n      <td>0.2</td>\n      <td>review_headline</td>\n      <td>0.604129</td>\n      <td>0.592139</td>\n    </tr>\n    <tr>\n      <th>8</th>\n      <td>True</td>\n      <td>False</td>\n      <td>0.5</td>\n      <td>review_headline</td>\n      <td>0.604981</td>\n      <td>0.593797</td>\n    </tr>\n    <tr>\n      <th>9</th>\n      <td>True</td>\n      <td>False</td>\n      <td>0.9</td>\n      <td>review_headline</td>\n      <td>0.602868</td>\n      <td>0.589660</td>\n    </tr>\n    <tr>\n      <th>10</th>\n      <td>True</td>\n      <td>True</td>\n      <td>0.2</td>\n      <td>star_rating</td>\n      <td>0.584944</td>\n      <td>0.580844</td>\n    </tr>\n    <tr>\n      <th>11</th>\n      <td>True</td>\n      <td>True</td>\n      <td>0.5</td>\n      <td>star_rating</td>\n      <td>0.558878</td>\n      <td>0.554536</td>\n    </tr>\n    <tr>\n      <th>12</th>\n      <td>True</td>\n      <td>True</td>\n      <td>0.9</td>\n      <td>star_rating</td>\n      <td>0.538660</td>\n      <td>0.524983</td>\n    </tr>\n    <tr>\n      <th>13</th>\n      <td>True</td>\n      <td>True</td>\n      <td>0.2</td>\n      <td>verified_purchase</td>\n      <td>0.605462</td>\n      <td>0.605409</td>\n    </tr>\n    <tr>\n      <th>14</th>\n      <td>True</td>\n      <td>True</td>\n      <td>0.5</td>\n      <td>verified_purchase</td>\n      <td>0.607183</td>\n      <td>0.608677</td>\n    </tr>\n    <tr>\n      <th>15</th>\n      <td>True</td>\n      <td>True</td>\n      <td>0.9</td>\n      <td>verified_purchase</td>\n      <td>0.597661</td>\n      <td>0.557834</td>\n    </tr>\n    <tr>\n      <th>16</th>\n      <td>True</td>\n      <td>True</td>\n      <td>0.2</td>\n      <td>review_headline</td>\n      <td>0.603235</td>\n      <td>0.595027</td>\n    </tr>\n    <tr>\n      <th>17</th>\n      <td>True</td>\n      <td>True</td>\n      <td>0.5</td>\n      <td>review_headline</td>\n      <td>0.599058</td>\n      <td>0.570024</td>\n    </tr>\n    <tr>\n      <th>18</th>\n      <td>True</td>\n      <td>True</td>\n      <td>0.9</td>\n      <td>review_headline</td>\n      <td>0.596965</td>\n      <td>0.558745</td>\n    </tr>\n  </tbody>\n</table>\n</div>"
     },
     "execution_count": 4,
     "metadata": {},
     "output_type": "execute_result"
    }
   ],
   "source": [
    "# Other params hard-coded currently\n",
    "# corruption_percentages=[0.2, 0.5, 0.9], corrupt_features=[\"star_rating\", \"verified_purchase\", \"review_headline\"]\n",
    "corruption_qualitative_review_corruption_opt = do_review_corruption_opt(debug=False)\n",
    "save_to_csv(corruption_qualitative_review_corruption_opt, \"corruption_qualitative_review_corruption_opt\")\n",
    "corruption_qualitative_review_corruption_opt"
   ],
   "metadata": {
    "collapsed": false,
    "pycharm": {
     "name": "#%%\n"
    }
   }
  },
  {
   "cell_type": "code",
   "execution_count": 5,
   "outputs": [
    {
     "name": "stdout",
     "output_type": "stream",
     "text": [
      "Done!\n",
      "Done!\n",
      "Done!\n",
      "Done!\n",
      "Done!\n",
      "Done!\n",
      "Done!\n",
      "Done!\n",
      "Done!\n",
      "Done!\n",
      "Done!\n",
      "Done!\n",
      "Done!\n",
      "Done!\n",
      "Done!\n",
      "Done!\n",
      "Done!\n",
      "Done!\n",
      "Done!\n",
      "Done!\n",
      "Done!\n",
      "Done!\n",
      "Done!\n",
      "Done!\n",
      "Done!\n",
      "Done!\n",
      "Done!\n",
      "Done!\n",
      "Done!\n",
      "Done!\n"
     ]
    },
    {
     "data": {
      "text/plain": "     runtimes\n0   12.293456\n1   12.139176\n2   12.249174\n3   12.150002\n4   12.220646\n5   12.455029\n6   12.232509\n7   11.942934\n8   11.962310\n9   12.180232\n10  12.155624\n11  11.910163\n12  12.205776\n13  12.061536\n14  11.914337\n15  12.183774\n16  12.032335\n17  12.039517\n18  11.806576\n19  12.015095\n20  12.166932\n21  12.001174\n22  12.146628\n23  12.398182\n24  11.984031\n25  12.071094\n26  12.154354\n27  11.958652\n28  12.322606\n29  12.156041",
      "text/html": "<div>\n<style scoped>\n    .dataframe tbody tr th:only-of-type {\n        vertical-align: middle;\n    }\n\n    .dataframe tbody tr th {\n        vertical-align: top;\n    }\n\n    .dataframe thead th {\n        text-align: right;\n    }\n</style>\n<table border=\"1\" class=\"dataframe\">\n  <thead>\n    <tr style=\"text-align: right;\">\n      <th></th>\n      <th>runtimes</th>\n    </tr>\n  </thead>\n  <tbody>\n    <tr>\n      <th>0</th>\n      <td>12.293456</td>\n    </tr>\n    <tr>\n      <th>1</th>\n      <td>12.139176</td>\n    </tr>\n    <tr>\n      <th>2</th>\n      <td>12.249174</td>\n    </tr>\n    <tr>\n      <th>3</th>\n      <td>12.150002</td>\n    </tr>\n    <tr>\n      <th>4</th>\n      <td>12.220646</td>\n    </tr>\n    <tr>\n      <th>5</th>\n      <td>12.455029</td>\n    </tr>\n    <tr>\n      <th>6</th>\n      <td>12.232509</td>\n    </tr>\n    <tr>\n      <th>7</th>\n      <td>11.942934</td>\n    </tr>\n    <tr>\n      <th>8</th>\n      <td>11.962310</td>\n    </tr>\n    <tr>\n      <th>9</th>\n      <td>12.180232</td>\n    </tr>\n    <tr>\n      <th>10</th>\n      <td>12.155624</td>\n    </tr>\n    <tr>\n      <th>11</th>\n      <td>11.910163</td>\n    </tr>\n    <tr>\n      <th>12</th>\n      <td>12.205776</td>\n    </tr>\n    <tr>\n      <th>13</th>\n      <td>12.061536</td>\n    </tr>\n    <tr>\n      <th>14</th>\n      <td>11.914337</td>\n    </tr>\n    <tr>\n      <th>15</th>\n      <td>12.183774</td>\n    </tr>\n    <tr>\n      <th>16</th>\n      <td>12.032335</td>\n    </tr>\n    <tr>\n      <th>17</th>\n      <td>12.039517</td>\n    </tr>\n    <tr>\n      <th>18</th>\n      <td>11.806576</td>\n    </tr>\n    <tr>\n      <th>19</th>\n      <td>12.015095</td>\n    </tr>\n    <tr>\n      <th>20</th>\n      <td>12.166932</td>\n    </tr>\n    <tr>\n      <th>21</th>\n      <td>12.001174</td>\n    </tr>\n    <tr>\n      <th>22</th>\n      <td>12.146628</td>\n    </tr>\n    <tr>\n      <th>23</th>\n      <td>12.398182</td>\n    </tr>\n    <tr>\n      <th>24</th>\n      <td>11.984031</td>\n    </tr>\n    <tr>\n      <th>25</th>\n      <td>12.071094</td>\n    </tr>\n    <tr>\n      <th>26</th>\n      <td>12.154354</td>\n    </tr>\n    <tr>\n      <th>27</th>\n      <td>11.958652</td>\n    </tr>\n    <tr>\n      <th>28</th>\n      <td>12.322606</td>\n    </tr>\n    <tr>\n      <th>29</th>\n      <td>12.156041</td>\n    </tr>\n  </tbody>\n</table>\n</div>"
     },
     "execution_count": 5,
     "metadata": {},
     "output_type": "execute_result"
    }
   ],
   "source": [
    "# Other params hard-coded currently\n",
    "# corruption_percentages=[0.2, 0.5, 0.9], corrupt_features=[\"star_rating\", \"verified_purchase\", \"review_headline\"]\n",
    "review_corruption_opt_exec_times = measure_review_corruption_opt_exec_time(debug=False, repeats=30)  # 30\n",
    "save_to_csv(review_corruption_opt_exec_times, \"review_corruption_opt_exec_times\")\n",
    "review_corruption_opt_exec_times"
   ],
   "metadata": {
    "collapsed": false,
    "pycharm": {
     "name": "#%%\n"
    }
   }
  },
  {
   "cell_type": "code",
   "execution_count": 6,
   "outputs": [
    {
     "data": {
      "text/plain": "    test_corruption  train_corruption  corruption_fraction    feature  \\\n0             False             False                  NaN       None   \n1             False              True                  0.2        age   \n2              True              True                  0.2        age   \n3             False              True                  0.5        age   \n4              True              True                  0.5        age   \n5             False              True                  0.9        age   \n6              True              True                  0.9        age   \n7             False              True                  0.2  workclass   \n8              True              True                  0.2  workclass   \n9             False              True                  0.5  workclass   \n10             True              True                  0.5  workclass   \n11            False              True                  0.9  workclass   \n12             True              True                  0.9  workclass   \n13            False              True                  0.2  education   \n14             True              True                  0.2  education   \n15            False              True                  0.5  education   \n16             True              True                  0.5  education   \n17            False              True                  0.9  education   \n18             True              True                  0.9  education   \n\n    accuracy  non_protected_fnr  protected_fnr  \n0   0.819186           0.296254       0.385093  \n1   0.714597           0.573124       0.704797  \n2   0.816673           0.307516       0.393939  \n3   0.569483           0.677443       0.798597  \n4   0.816673           0.312395       0.389222  \n5   0.288113           0.749770       0.851007  \n6   0.817268           0.294046       0.385093  \n7   0.820041           0.340962       0.410628  \n8   0.816685           0.356034       0.424893  \n9   0.814895           0.354067       0.457364  \n10  0.819736           0.318961       0.412371  \n11  0.809977           0.266892       0.324561  \n12  0.817755           0.292421       0.364198  \n13  0.818657           0.319193       0.391813  \n14  0.806757           0.402827       0.489209  \n15  0.807219           0.287758       0.378151  \n16  0.813368           0.332443       0.418994  \n17  0.808608           0.307317       0.386861  \n18  0.810922           0.328879       0.405063  ",
      "text/html": "<div>\n<style scoped>\n    .dataframe tbody tr th:only-of-type {\n        vertical-align: middle;\n    }\n\n    .dataframe tbody tr th {\n        vertical-align: top;\n    }\n\n    .dataframe thead th {\n        text-align: right;\n    }\n</style>\n<table border=\"1\" class=\"dataframe\">\n  <thead>\n    <tr style=\"text-align: right;\">\n      <th></th>\n      <th>test_corruption</th>\n      <th>train_corruption</th>\n      <th>corruption_fraction</th>\n      <th>feature</th>\n      <th>accuracy</th>\n      <th>non_protected_fnr</th>\n      <th>protected_fnr</th>\n    </tr>\n  </thead>\n  <tbody>\n    <tr>\n      <th>0</th>\n      <td>False</td>\n      <td>False</td>\n      <td>NaN</td>\n      <td>None</td>\n      <td>0.819186</td>\n      <td>0.296254</td>\n      <td>0.385093</td>\n    </tr>\n    <tr>\n      <th>1</th>\n      <td>False</td>\n      <td>True</td>\n      <td>0.2</td>\n      <td>age</td>\n      <td>0.714597</td>\n      <td>0.573124</td>\n      <td>0.704797</td>\n    </tr>\n    <tr>\n      <th>2</th>\n      <td>True</td>\n      <td>True</td>\n      <td>0.2</td>\n      <td>age</td>\n      <td>0.816673</td>\n      <td>0.307516</td>\n      <td>0.393939</td>\n    </tr>\n    <tr>\n      <th>3</th>\n      <td>False</td>\n      <td>True</td>\n      <td>0.5</td>\n      <td>age</td>\n      <td>0.569483</td>\n      <td>0.677443</td>\n      <td>0.798597</td>\n    </tr>\n    <tr>\n      <th>4</th>\n      <td>True</td>\n      <td>True</td>\n      <td>0.5</td>\n      <td>age</td>\n      <td>0.816673</td>\n      <td>0.312395</td>\n      <td>0.389222</td>\n    </tr>\n    <tr>\n      <th>5</th>\n      <td>False</td>\n      <td>True</td>\n      <td>0.9</td>\n      <td>age</td>\n      <td>0.288113</td>\n      <td>0.749770</td>\n      <td>0.851007</td>\n    </tr>\n    <tr>\n      <th>6</th>\n      <td>True</td>\n      <td>True</td>\n      <td>0.9</td>\n      <td>age</td>\n      <td>0.817268</td>\n      <td>0.294046</td>\n      <td>0.385093</td>\n    </tr>\n    <tr>\n      <th>7</th>\n      <td>False</td>\n      <td>True</td>\n      <td>0.2</td>\n      <td>workclass</td>\n      <td>0.820041</td>\n      <td>0.340962</td>\n      <td>0.410628</td>\n    </tr>\n    <tr>\n      <th>8</th>\n      <td>True</td>\n      <td>True</td>\n      <td>0.2</td>\n      <td>workclass</td>\n      <td>0.816685</td>\n      <td>0.356034</td>\n      <td>0.424893</td>\n    </tr>\n    <tr>\n      <th>9</th>\n      <td>False</td>\n      <td>True</td>\n      <td>0.5</td>\n      <td>workclass</td>\n      <td>0.814895</td>\n      <td>0.354067</td>\n      <td>0.457364</td>\n    </tr>\n    <tr>\n      <th>10</th>\n      <td>True</td>\n      <td>True</td>\n      <td>0.5</td>\n      <td>workclass</td>\n      <td>0.819736</td>\n      <td>0.318961</td>\n      <td>0.412371</td>\n    </tr>\n    <tr>\n      <th>11</th>\n      <td>False</td>\n      <td>True</td>\n      <td>0.9</td>\n      <td>workclass</td>\n      <td>0.809977</td>\n      <td>0.266892</td>\n      <td>0.324561</td>\n    </tr>\n    <tr>\n      <th>12</th>\n      <td>True</td>\n      <td>True</td>\n      <td>0.9</td>\n      <td>workclass</td>\n      <td>0.817755</td>\n      <td>0.292421</td>\n      <td>0.364198</td>\n    </tr>\n    <tr>\n      <th>13</th>\n      <td>False</td>\n      <td>True</td>\n      <td>0.2</td>\n      <td>education</td>\n      <td>0.818657</td>\n      <td>0.319193</td>\n      <td>0.391813</td>\n    </tr>\n    <tr>\n      <th>14</th>\n      <td>True</td>\n      <td>True</td>\n      <td>0.2</td>\n      <td>education</td>\n      <td>0.806757</td>\n      <td>0.402827</td>\n      <td>0.489209</td>\n    </tr>\n    <tr>\n      <th>15</th>\n      <td>False</td>\n      <td>True</td>\n      <td>0.5</td>\n      <td>education</td>\n      <td>0.807219</td>\n      <td>0.287758</td>\n      <td>0.378151</td>\n    </tr>\n    <tr>\n      <th>16</th>\n      <td>True</td>\n      <td>True</td>\n      <td>0.5</td>\n      <td>education</td>\n      <td>0.813368</td>\n      <td>0.332443</td>\n      <td>0.418994</td>\n    </tr>\n    <tr>\n      <th>17</th>\n      <td>False</td>\n      <td>True</td>\n      <td>0.9</td>\n      <td>education</td>\n      <td>0.808608</td>\n      <td>0.307317</td>\n      <td>0.386861</td>\n    </tr>\n    <tr>\n      <th>18</th>\n      <td>True</td>\n      <td>True</td>\n      <td>0.9</td>\n      <td>education</td>\n      <td>0.810922</td>\n      <td>0.328879</td>\n      <td>0.405063</td>\n    </tr>\n  </tbody>\n</table>\n</div>"
     },
     "execution_count": 6,
     "metadata": {},
     "output_type": "execute_result"
    }
   ],
   "source": [
    "corruption_qualitative_credit_corruption_naive = do_credit_corruption_naive(debug=False,\n",
    "                                                                          corruption_percentages=[0.2, 0.5, 0.9],\n",
    "                                                                          corrupt_features=[\"age\", \"workclass\", \"education\"])\n",
    "save_to_csv(corruption_qualitative_credit_corruption_naive, \"corruption_qualitative_credit_corruption_naive\")\n",
    "corruption_qualitative_credit_corruption_naive"
   ],
   "metadata": {
    "collapsed": false,
    "pycharm": {
     "name": "#%%\n"
    }
   }
  },
  {
   "cell_type": "code",
   "execution_count": 7,
   "outputs": [
    {
     "name": "stdout",
     "output_type": "stream",
     "text": [
      "Done!\n",
      "Done!\n",
      "Done!\n",
      "Done!\n",
      "Done!\n",
      "Done!\n",
      "Done!\n",
      "Done!\n",
      "Done!\n",
      "Done!\n",
      "Done!\n",
      "Done!\n",
      "Done!\n",
      "Done!\n",
      "Done!\n",
      "Done!\n",
      "Done!\n",
      "Done!\n",
      "Done!\n",
      "Done!\n",
      "Done!\n",
      "Done!\n",
      "Done!\n",
      "Done!\n",
      "Done!\n",
      "Done!\n",
      "Done!\n",
      "Done!\n",
      "Done!\n",
      "Done!\n"
     ]
    },
    {
     "data": {
      "text/plain": "     runtimes\n0   17.075577\n1   17.237360\n2   16.774983\n3   17.158882\n4   17.116971\n5   16.344717\n6   16.495479\n7   16.541877\n8   16.975463\n9   16.755046\n10  17.126224\n11  17.124791\n12  16.907091\n13  17.126883\n14  16.852674\n15  16.591926\n16  17.206223\n17  17.200209\n18  17.091002\n19  18.755778\n20  17.587851\n21  16.904812\n22  17.140537\n23  17.268586\n24  16.594988\n25  16.812165\n26  18.739522\n27  18.855052\n28  17.637204\n29  16.823794",
      "text/html": "<div>\n<style scoped>\n    .dataframe tbody tr th:only-of-type {\n        vertical-align: middle;\n    }\n\n    .dataframe tbody tr th {\n        vertical-align: top;\n    }\n\n    .dataframe thead th {\n        text-align: right;\n    }\n</style>\n<table border=\"1\" class=\"dataframe\">\n  <thead>\n    <tr style=\"text-align: right;\">\n      <th></th>\n      <th>runtimes</th>\n    </tr>\n  </thead>\n  <tbody>\n    <tr>\n      <th>0</th>\n      <td>17.075577</td>\n    </tr>\n    <tr>\n      <th>1</th>\n      <td>17.237360</td>\n    </tr>\n    <tr>\n      <th>2</th>\n      <td>16.774983</td>\n    </tr>\n    <tr>\n      <th>3</th>\n      <td>17.158882</td>\n    </tr>\n    <tr>\n      <th>4</th>\n      <td>17.116971</td>\n    </tr>\n    <tr>\n      <th>5</th>\n      <td>16.344717</td>\n    </tr>\n    <tr>\n      <th>6</th>\n      <td>16.495479</td>\n    </tr>\n    <tr>\n      <th>7</th>\n      <td>16.541877</td>\n    </tr>\n    <tr>\n      <th>8</th>\n      <td>16.975463</td>\n    </tr>\n    <tr>\n      <th>9</th>\n      <td>16.755046</td>\n    </tr>\n    <tr>\n      <th>10</th>\n      <td>17.126224</td>\n    </tr>\n    <tr>\n      <th>11</th>\n      <td>17.124791</td>\n    </tr>\n    <tr>\n      <th>12</th>\n      <td>16.907091</td>\n    </tr>\n    <tr>\n      <th>13</th>\n      <td>17.126883</td>\n    </tr>\n    <tr>\n      <th>14</th>\n      <td>16.852674</td>\n    </tr>\n    <tr>\n      <th>15</th>\n      <td>16.591926</td>\n    </tr>\n    <tr>\n      <th>16</th>\n      <td>17.206223</td>\n    </tr>\n    <tr>\n      <th>17</th>\n      <td>17.200209</td>\n    </tr>\n    <tr>\n      <th>18</th>\n      <td>17.091002</td>\n    </tr>\n    <tr>\n      <th>19</th>\n      <td>18.755778</td>\n    </tr>\n    <tr>\n      <th>20</th>\n      <td>17.587851</td>\n    </tr>\n    <tr>\n      <th>21</th>\n      <td>16.904812</td>\n    </tr>\n    <tr>\n      <th>22</th>\n      <td>17.140537</td>\n    </tr>\n    <tr>\n      <th>23</th>\n      <td>17.268586</td>\n    </tr>\n    <tr>\n      <th>24</th>\n      <td>16.594988</td>\n    </tr>\n    <tr>\n      <th>25</th>\n      <td>16.812165</td>\n    </tr>\n    <tr>\n      <th>26</th>\n      <td>18.739522</td>\n    </tr>\n    <tr>\n      <th>27</th>\n      <td>18.855052</td>\n    </tr>\n    <tr>\n      <th>28</th>\n      <td>17.637204</td>\n    </tr>\n    <tr>\n      <th>29</th>\n      <td>16.823794</td>\n    </tr>\n  </tbody>\n</table>\n</div>"
     },
     "execution_count": 7,
     "metadata": {},
     "output_type": "execute_result"
    }
   ],
   "source": [
    "credit_corruption_naive_exec_times = measure_credit_corruption_naive_exec_time(debug=False,\n",
    "                                                                               corruption_percentages=[0.2, 0.5, 0.9],\n",
    "                                                                               corrupt_features=[\"age\", \"workclass\", \"education\"],\n",
    "                                                                               repeats=30)\n",
    "save_to_csv(credit_corruption_naive_exec_times, \"credit_corruption_naive_exec_times\")\n",
    "credit_corruption_naive_exec_times"
   ],
   "metadata": {
    "collapsed": false,
    "pycharm": {
     "name": "#%%\n"
    }
   }
  },
  {
   "cell_type": "code",
   "execution_count": 8,
   "outputs": [
    {
     "data": {
      "text/plain": "    test_corruption  train_corruption  corruption_fraction    feature  \\\n0             False             False                  NaN       None   \n1              True             False                  0.2        age   \n2              True             False                  0.5        age   \n3              True             False                  0.9        age   \n4              True             False                  0.2  workclass   \n5              True             False                  0.5  workclass   \n6              True             False                  0.9  workclass   \n7              True             False                  0.2  education   \n8              True             False                  0.5  education   \n9              True             False                  0.9  education   \n10             True              True                  0.2        age   \n11             True              True                  0.5        age   \n12             True              True                  0.9        age   \n13             True              True                  0.2  workclass   \n14             True              True                  0.5  workclass   \n15             True              True                  0.9  workclass   \n16             True              True                  0.2  education   \n17             True              True                  0.5  education   \n18             True              True                  0.9  education   \n\n    accuracy  non_protected_fnr  protected_fnr  \n0   0.820376           0.319684       0.416216  \n1   0.704747           0.584852       0.738516  \n2   0.529023           0.694636       0.822624  \n3   0.287849           0.749812       0.847296  \n4   0.819847           0.317444       0.407609  \n5   0.818591           0.311493       0.402367  \n6   0.817401           0.304000       0.404908  \n7   0.817731           0.313853       0.400000  \n8   0.814558           0.297710       0.371622  \n9   0.807484           0.282787       0.336283  \n10  0.816012           0.336296       0.410811  \n11  0.812640           0.339126       0.404494  \n12  0.815946           0.337313       0.390374  \n13  0.819714           0.281500       0.364238  \n14  0.820574           0.314937       0.406593  \n15  0.820045           0.293583       0.410714  \n16  0.810855           0.355675       0.424731  \n17  0.810128           0.294789       0.370968  \n18  0.804310           0.318216       0.372881  ",
      "text/html": "<div>\n<style scoped>\n    .dataframe tbody tr th:only-of-type {\n        vertical-align: middle;\n    }\n\n    .dataframe tbody tr th {\n        vertical-align: top;\n    }\n\n    .dataframe thead th {\n        text-align: right;\n    }\n</style>\n<table border=\"1\" class=\"dataframe\">\n  <thead>\n    <tr style=\"text-align: right;\">\n      <th></th>\n      <th>test_corruption</th>\n      <th>train_corruption</th>\n      <th>corruption_fraction</th>\n      <th>feature</th>\n      <th>accuracy</th>\n      <th>non_protected_fnr</th>\n      <th>protected_fnr</th>\n    </tr>\n  </thead>\n  <tbody>\n    <tr>\n      <th>0</th>\n      <td>False</td>\n      <td>False</td>\n      <td>NaN</td>\n      <td>None</td>\n      <td>0.820376</td>\n      <td>0.319684</td>\n      <td>0.416216</td>\n    </tr>\n    <tr>\n      <th>1</th>\n      <td>True</td>\n      <td>False</td>\n      <td>0.2</td>\n      <td>age</td>\n      <td>0.704747</td>\n      <td>0.584852</td>\n      <td>0.738516</td>\n    </tr>\n    <tr>\n      <th>2</th>\n      <td>True</td>\n      <td>False</td>\n      <td>0.5</td>\n      <td>age</td>\n      <td>0.529023</td>\n      <td>0.694636</td>\n      <td>0.822624</td>\n    </tr>\n    <tr>\n      <th>3</th>\n      <td>True</td>\n      <td>False</td>\n      <td>0.9</td>\n      <td>age</td>\n      <td>0.287849</td>\n      <td>0.749812</td>\n      <td>0.847296</td>\n    </tr>\n    <tr>\n      <th>4</th>\n      <td>True</td>\n      <td>False</td>\n      <td>0.2</td>\n      <td>workclass</td>\n      <td>0.819847</td>\n      <td>0.317444</td>\n      <td>0.407609</td>\n    </tr>\n    <tr>\n      <th>5</th>\n      <td>True</td>\n      <td>False</td>\n      <td>0.5</td>\n      <td>workclass</td>\n      <td>0.818591</td>\n      <td>0.311493</td>\n      <td>0.402367</td>\n    </tr>\n    <tr>\n      <th>6</th>\n      <td>True</td>\n      <td>False</td>\n      <td>0.9</td>\n      <td>workclass</td>\n      <td>0.817401</td>\n      <td>0.304000</td>\n      <td>0.404908</td>\n    </tr>\n    <tr>\n      <th>7</th>\n      <td>True</td>\n      <td>False</td>\n      <td>0.2</td>\n      <td>education</td>\n      <td>0.817731</td>\n      <td>0.313853</td>\n      <td>0.400000</td>\n    </tr>\n    <tr>\n      <th>8</th>\n      <td>True</td>\n      <td>False</td>\n      <td>0.5</td>\n      <td>education</td>\n      <td>0.814558</td>\n      <td>0.297710</td>\n      <td>0.371622</td>\n    </tr>\n    <tr>\n      <th>9</th>\n      <td>True</td>\n      <td>False</td>\n      <td>0.9</td>\n      <td>education</td>\n      <td>0.807484</td>\n      <td>0.282787</td>\n      <td>0.336283</td>\n    </tr>\n    <tr>\n      <th>10</th>\n      <td>True</td>\n      <td>True</td>\n      <td>0.2</td>\n      <td>age</td>\n      <td>0.816012</td>\n      <td>0.336296</td>\n      <td>0.410811</td>\n    </tr>\n    <tr>\n      <th>11</th>\n      <td>True</td>\n      <td>True</td>\n      <td>0.5</td>\n      <td>age</td>\n      <td>0.812640</td>\n      <td>0.339126</td>\n      <td>0.404494</td>\n    </tr>\n    <tr>\n      <th>12</th>\n      <td>True</td>\n      <td>True</td>\n      <td>0.9</td>\n      <td>age</td>\n      <td>0.815946</td>\n      <td>0.337313</td>\n      <td>0.390374</td>\n    </tr>\n    <tr>\n      <th>13</th>\n      <td>True</td>\n      <td>True</td>\n      <td>0.2</td>\n      <td>workclass</td>\n      <td>0.819714</td>\n      <td>0.281500</td>\n      <td>0.364238</td>\n    </tr>\n    <tr>\n      <th>14</th>\n      <td>True</td>\n      <td>True</td>\n      <td>0.5</td>\n      <td>workclass</td>\n      <td>0.820574</td>\n      <td>0.314937</td>\n      <td>0.406593</td>\n    </tr>\n    <tr>\n      <th>15</th>\n      <td>True</td>\n      <td>True</td>\n      <td>0.9</td>\n      <td>workclass</td>\n      <td>0.820045</td>\n      <td>0.293583</td>\n      <td>0.410714</td>\n    </tr>\n    <tr>\n      <th>16</th>\n      <td>True</td>\n      <td>True</td>\n      <td>0.2</td>\n      <td>education</td>\n      <td>0.810855</td>\n      <td>0.355675</td>\n      <td>0.424731</td>\n    </tr>\n    <tr>\n      <th>17</th>\n      <td>True</td>\n      <td>True</td>\n      <td>0.5</td>\n      <td>education</td>\n      <td>0.810128</td>\n      <td>0.294789</td>\n      <td>0.370968</td>\n    </tr>\n    <tr>\n      <th>18</th>\n      <td>True</td>\n      <td>True</td>\n      <td>0.9</td>\n      <td>education</td>\n      <td>0.804310</td>\n      <td>0.318216</td>\n      <td>0.372881</td>\n    </tr>\n  </tbody>\n</table>\n</div>"
     },
     "execution_count": 8,
     "metadata": {},
     "output_type": "execute_result"
    }
   ],
   "source": [
    "# Other params hard-coded currently\n",
    "# corruption_percentages=[0.2, 0.5, 0.9], corrupt_features=[\"age\", \"workclass\", \"education\"]\n",
    "corruption_qualitative_credit_corruption_opt = do_credit_corruption_opt(debug=False)\n",
    "save_to_csv(corruption_qualitative_credit_corruption_opt, \"corruption_qualitative_credit_corruption_opt\")\n",
    "corruption_qualitative_credit_corruption_opt"
   ],
   "metadata": {
    "collapsed": false,
    "pycharm": {
     "name": "#%%\n"
    }
   }
  },
  {
   "cell_type": "code",
   "execution_count": 9,
   "outputs": [
    {
     "name": "stdout",
     "output_type": "stream",
     "text": [
      "Done!\n",
      "Done!\n",
      "Done!\n",
      "Done!\n",
      "Done!\n",
      "Done!\n",
      "Done!\n",
      "Done!\n",
      "Done!\n",
      "Done!\n",
      "Done!\n",
      "Done!\n",
      "Done!\n",
      "Done!\n",
      "Done!\n",
      "Done!\n",
      "Done!\n",
      "Done!\n",
      "Done!\n",
      "Done!\n",
      "Done!\n",
      "Done!\n",
      "Done!\n",
      "Done!\n",
      "Done!\n",
      "Done!\n",
      "Done!\n",
      "Done!\n",
      "Done!\n",
      "Done!\n"
     ]
    },
    {
     "data": {
      "text/plain": "    runtimes\n0   2.537927\n1   3.228171\n2   3.441829\n3   3.173383\n4   3.218125\n5   3.145321\n6   3.089305\n7   2.992777\n8   3.023381\n9   3.372228\n10  2.814370\n11  2.542049\n12  3.417352\n13  3.488850\n14  3.481830\n15  3.170567\n16  3.379951\n17  3.271350\n18  3.239000\n19  3.086086\n20  3.435977\n21  3.497338\n22  2.886771\n23  3.463263\n24  2.861996\n25  3.282384\n26  2.637295\n27  2.563008\n28  2.494525\n29  2.566594",
      "text/html": "<div>\n<style scoped>\n    .dataframe tbody tr th:only-of-type {\n        vertical-align: middle;\n    }\n\n    .dataframe tbody tr th {\n        vertical-align: top;\n    }\n\n    .dataframe thead th {\n        text-align: right;\n    }\n</style>\n<table border=\"1\" class=\"dataframe\">\n  <thead>\n    <tr style=\"text-align: right;\">\n      <th></th>\n      <th>runtimes</th>\n    </tr>\n  </thead>\n  <tbody>\n    <tr>\n      <th>0</th>\n      <td>2.537927</td>\n    </tr>\n    <tr>\n      <th>1</th>\n      <td>3.228171</td>\n    </tr>\n    <tr>\n      <th>2</th>\n      <td>3.441829</td>\n    </tr>\n    <tr>\n      <th>3</th>\n      <td>3.173383</td>\n    </tr>\n    <tr>\n      <th>4</th>\n      <td>3.218125</td>\n    </tr>\n    <tr>\n      <th>5</th>\n      <td>3.145321</td>\n    </tr>\n    <tr>\n      <th>6</th>\n      <td>3.089305</td>\n    </tr>\n    <tr>\n      <th>7</th>\n      <td>2.992777</td>\n    </tr>\n    <tr>\n      <th>8</th>\n      <td>3.023381</td>\n    </tr>\n    <tr>\n      <th>9</th>\n      <td>3.372228</td>\n    </tr>\n    <tr>\n      <th>10</th>\n      <td>2.814370</td>\n    </tr>\n    <tr>\n      <th>11</th>\n      <td>2.542049</td>\n    </tr>\n    <tr>\n      <th>12</th>\n      <td>3.417352</td>\n    </tr>\n    <tr>\n      <th>13</th>\n      <td>3.488850</td>\n    </tr>\n    <tr>\n      <th>14</th>\n      <td>3.481830</td>\n    </tr>\n    <tr>\n      <th>15</th>\n      <td>3.170567</td>\n    </tr>\n    <tr>\n      <th>16</th>\n      <td>3.379951</td>\n    </tr>\n    <tr>\n      <th>17</th>\n      <td>3.271350</td>\n    </tr>\n    <tr>\n      <th>18</th>\n      <td>3.239000</td>\n    </tr>\n    <tr>\n      <th>19</th>\n      <td>3.086086</td>\n    </tr>\n    <tr>\n      <th>20</th>\n      <td>3.435977</td>\n    </tr>\n    <tr>\n      <th>21</th>\n      <td>3.497338</td>\n    </tr>\n    <tr>\n      <th>22</th>\n      <td>2.886771</td>\n    </tr>\n    <tr>\n      <th>23</th>\n      <td>3.463263</td>\n    </tr>\n    <tr>\n      <th>24</th>\n      <td>2.861996</td>\n    </tr>\n    <tr>\n      <th>25</th>\n      <td>3.282384</td>\n    </tr>\n    <tr>\n      <th>26</th>\n      <td>2.637295</td>\n    </tr>\n    <tr>\n      <th>27</th>\n      <td>2.563008</td>\n    </tr>\n    <tr>\n      <th>28</th>\n      <td>2.494525</td>\n    </tr>\n    <tr>\n      <th>29</th>\n      <td>2.566594</td>\n    </tr>\n  </tbody>\n</table>\n</div>"
     },
     "execution_count": 9,
     "metadata": {},
     "output_type": "execute_result"
    }
   ],
   "source": [
    "# Other params hard-coded currently\n",
    "# corruption_percentages=[0.2, 0.5, 0.9], corrupt_features=[\"age\", \"workclass\", \"education\"]review_corruption_opt_exec_times = measure_review_corruption_opt_exec_time(debug=True, repeats=30)\n",
    "credit_corruption_opt_exec_times = measure_credit_corruption_opt_exec_time(debug=False, repeats=30)\n",
    "save_to_csv(credit_corruption_opt_exec_times, \"credit_corruption_opt_exec_times\")\n",
    "credit_corruption_opt_exec_times"
   ],
   "metadata": {
    "collapsed": false,
    "pycharm": {
     "name": "#%%\n"
    }
   }
  }
 ],
 "metadata": {
  "kernelspec": {
   "display_name": "Python 3 (ipykernel)",
   "language": "python",
   "name": "python3"
  },
  "language_info": {
   "codemirror_mode": {
    "name": "ipython",
    "version": 3
   },
   "file_extension": ".py",
   "mimetype": "text/x-python",
   "name": "python",
   "nbconvert_exporter": "python",
   "pygments_lexer": "ipython3",
   "version": "3.9.5"
  }
 },
 "nbformat": 4,
 "nbformat_minor": 4
}